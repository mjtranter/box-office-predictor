{
 "cells": [
  {
   "cell_type": "markdown",
   "id": "0af983fc-8642-4ae7-9b1f-862f3de7e0fe",
   "metadata": {},
   "source": [
    "# **<u>A Machine Learning Approach to Predicting Box Office Revenue</u>**\n",
    "\n",
    " \n",
    "## **<u>Abstract</u>**"
   ]
  },
  {
   "cell_type": "markdown",
   "id": "e6a891f1-ed8b-4611-963f-6235dd052847",
   "metadata": {},
   "source": [
    "The goal of the project is to predict global box office revenue based on a film's attributes. Through machine learning, the model will identify the amount of influence that each factor has towards a film's success. A film's attributes include budget, duration, cast and age certificate. Predicting something as specific as global box office revenue when so many factors, both quantifiable and not, have an effect is extremely complex. Thus, it is fair to accept a reasonable margin of error with the model's predictions."
   ]
  },
  {
   "cell_type": "markdown",
   "id": "af3d77d2-d947-48c2-b7be-488d97ff69e2",
   "metadata": {},
   "source": [
    "## **<u>Learning Objectives</u>**"
   ]
  },
  {
   "cell_type": "markdown",
   "id": "ff81c953-9e27-449b-bf0e-01cc954bd6b3",
   "metadata": {},
   "source": [
    "By following this tutorial, you should:\n",
    "\n",
    "- Learn how to develop a machine learning model to predict a film's box office revenue\n",
    "- Develop an understanding of how different factors affect a film's success in the box office\n",
    "- Learn how to process and analyse data for use in a machine learning model, using techniques such as data cleaning and feature engineering\n",
    "- Understand the use of different Python libraries for data handling and presentation\n",
    "- Understand limitations of the dataset and how these limitations can affect results\n",
    "- Understand how exploring and analysing results can lead to real-world insights and conclusions"
   ]
  },
  {
   "cell_type": "markdown",
   "id": "a405e536-3443-441c-900b-701dbbdb8c84",
   "metadata": {},
   "source": [
    "## **<u>Table of Contents</u>**"
   ]
  },
  {
   "cell_type": "markdown",
   "id": "f278de2d-d75d-4151-8a0f-d4c92db87f43",
   "metadata": {},
   "source": [
    "1. [Data Collection and Preprocessing](#1.-Data-Collection-and-Preprocessing) <br>\n",
    "   1.1 [Finding the Dataset](#1.1-Finding-the-Dataset) <br>\n",
    "   1.2 [Examining the Dataset](#1.2-Examining-the-Dataset) <br>\n",
    "   1.3 [Preprocessing](#1.3-Preprocessing) <br>\n",
    "   1.4 [Feature Engineering](#1.4-Feature-Engineering) <br>\n",
    "2. [Training Process](#2.-Training-Process)\n",
    "3. [Results](#3.-Results)\n",
    "4. [Analysis of Similar Online Tutorials](#4.-Analysis-of-Similar-Online-Tutorials)\n",
    "5. [References](#5.-References)\n",
    "   "
   ]
  },
  {
   "cell_type": "markdown",
   "id": "ad8d9a86-66f8-4000-845f-7e08ec630483",
   "metadata": {},
   "source": [
    "## **<u>1. Data Collection and Preprocessing</u>**"
   ]
  },
  {
   "cell_type": "markdown",
   "id": "18a405ef-3ac4-400b-8b38-039775d784c9",
   "metadata": {},
   "source": [
    "The first step of any machine learning process is gathering data. In this case, we want to make use of an expansive dataset that covers as many attributes as possible that could influence revenue. With so many potential features, it is important that the dataset has a very large sample size, which will allow the model to notice and learn from patterns more easily, and will avoid overfitting to a niche, unrepresentative set of films."
   ]
  },
  {
   "cell_type": "markdown",
   "id": "2c32f869-e731-43b0-9336-4968e33686ff",
   "metadata": {},
   "source": [
    "### **1.1 Finding the Dataset**"
   ]
  },
  {
   "cell_type": "markdown",
   "id": "6a1a8727-fccc-4543-b700-a213f00a57f4",
   "metadata": {},
   "source": [
    "When looking for a suitable dataset, there were some key features that would lead the search and selection. Firstly, the number of films needed to be high. A high sample size is more likely to be representative of the entire population than a small sample size. We also needed to make sure that the films included covered a wide range of release years and that each year was covered roughly the same amount as the others. This way, it would ensure that there was no bias towards any time period and would helpfully demonstrate how the industry has evolved over a significant amount of time. It would also help to reduce the effect of anomalies such as 2020 and 2021, when cinema attendance was greatly reduced due to Covid-19. In addition, it was important to examine the film attributes included, making sure that they covered all or, at least, most of the factors which may influence box office revenue. It was decided that some attributes were essential to the model, such as budget, age certificate, primary language, duration and, of course, global box office revenue, which would be the value predicted and tested against. \n",
    "\n",
    "The dataset selected was found on Kaggle (Addala, 2025). It contains 33,600 films, which are the most popular 500-600 films from each year since 1960 according to IMDb, from which the data was extracted. The dataset has a very large sample size, covers the last 65 years with a fairly even distribution and contains all of the essential attributes for this project, along with several more relevant and useful features. It also contains some interesting data to examine in comparison with box office success such as number of Oscar nominations and wins. This dataset was selected over the other options mostly due to the significant number of films (a lot of other datasets had only 2000-4000 films) and the wide variety of useful attributes.\n",
    "\n",
    "One feature that was missing from this dataset that would have been a useful inclusion is release month, or a different categorical representation of it. There is evidence that films are generally more successful around holidays, so that is an unfortunate thing to miss by using this dataset. Another useful feature missing was the length of the theatrical run. It is logical that films that spend longer in cinemas will generally earn more money than those which are only in cinemas for a short time."
   ]
  },
  {
   "cell_type": "markdown",
   "id": "ff9da801-4440-4910-8662-fd91435427c8",
   "metadata": {},
   "source": [
    "### **1.2 Examining the Dataset**"
   ]
  },
  {
   "cell_type": "markdown",
   "id": "8192025b-ca60-4453-ba0e-5c9fad0fbb8e",
   "metadata": {},
   "source": [
    "Before we do anything, let's import everything we will need."
   ]
  },
  {
   "cell_type": "code",
   "execution_count": 919,
   "id": "a77f612a-7279-44a6-8bdf-b3300df99246",
   "metadata": {},
   "outputs": [],
   "source": [
    "import pandas as pd\n",
    "import matplotlib.pyplot as plt\n",
    "import numpy as np\n",
    "import torch\n",
    "\n",
    "from sklearn.preprocessing import OrdinalEncoder\n",
    "from sklearn.preprocessing import MinMaxScaler\n",
    "from sklearn.preprocessing import StandardScaler\n",
    "from sklearn.model_selection import train_test_split\n",
    "from sklearn.metrics import mean_absolute_error\n",
    "from torch.utils.data import TensorDataset, DataLoader"
   ]
  },
  {
   "cell_type": "markdown",
   "id": "87c6944c-26ef-4898-a797-5b22296e71d2",
   "metadata": {},
   "source": [
    "First, let's have a look at the columns of the dataset."
   ]
  },
  {
   "cell_type": "code",
   "execution_count": 920,
   "id": "9ce13831-1e97-4148-bc5c-11d0a35e0aa3",
   "metadata": {},
   "outputs": [
    {
     "name": "stdout",
     "output_type": "stream",
     "text": [
      "['id', 'Title', 'Movie Link', 'Year', 'Duration', 'MPA', 'Rating', 'Votes', 'budget', 'grossWorldWide', 'gross_US_Canada', 'opening_weekend_Gross', 'directors', 'writers', 'stars', 'genres', 'countries_origin', 'filming_locations', 'production_companies', 'Languages', 'wins', 'nominations', 'oscars']\n"
     ]
    }
   ],
   "source": [
    "df = pd.read_csv(\"final_dataset.csv\")\n",
    "print(df.columns.tolist())"
   ]
  },
  {
   "cell_type": "markdown",
   "id": "9d6d2881-2c01-4ee9-9b61-13d9695e4571",
   "metadata": {},
   "source": [
    "Let's clarify any columns that are not entirely obvious. \n",
    "\n",
    "- Movie Link provides the IMDb link to the film, which is not useful to this dataset\n",
    "- MPA refers to the Motion Picture Association, who are responsible for assigning age certificates to films. MPA is the age certificate given to the film in USA and this seems a fair choice given that USA typically has the biggest influence on the box office\n",
    "- Rating refers to the IMDb rating of the film\n",
    "- Votes refers to the number of IMDb users who have given a rating to the film\n",
    "- Wins refers to the total number of award wins the film has received\n",
    "- Nominations refers to the total number of award nominations the film has received\n",
    "- Oscars refers to the total number of Oscar wins the film has received\n",
    "\n",
    "Now we ask ourselves if any of these columns serve no purpose in the model and could therefore be dropped. Everything seems beneficial except 'id' and 'Movie Link' as they do not provide any useful information for the machine learning model. Therefore, we can drop these columns from the dataset."
   ]
  },
  {
   "cell_type": "code",
   "execution_count": 921,
   "id": "2e888c64-5d78-4b75-80cd-14b2f7b54059",
   "metadata": {},
   "outputs": [
    {
     "name": "stdout",
     "output_type": "stream",
     "text": [
      "['Title', 'Year', 'Duration', 'MPA', 'Rating', 'Votes', 'budget', 'grossWorldWide', 'gross_US_Canada', 'opening_weekend_Gross', 'directors', 'writers', 'stars', 'genres', 'countries_origin', 'filming_locations', 'production_companies', 'Languages', 'wins', 'nominations', 'oscars']\n"
     ]
    }
   ],
   "source": [
    "df = df.drop([\"id\", \"Movie Link\"], axis = \"columns\")\n",
    "print(df.columns.tolist())"
   ]
  },
  {
   "cell_type": "markdown",
   "id": "a5162042-25c5-4588-b46d-8dc3ffeb1d83",
   "metadata": {},
   "source": [
    "Now that any unnecessary columns have been removed, we have another look at the column names and see very inconsistent formatting- some start with lower case, some with upper case, some use underscores, some use Camel Case. Let's choose one format and change the ones that don't apply. In this case, lower case with underscores is chosen. Now let's change the names."
   ]
  },
  {
   "cell_type": "code",
   "execution_count": 922,
   "id": "ac68b032-379c-43ec-a064-1833d8588e9a",
   "metadata": {},
   "outputs": [
    {
     "name": "stdout",
     "output_type": "stream",
     "text": [
      "['title', 'year', 'duration', 'mpa', 'rating', 'votes', 'budget', 'gross_worldwide', 'gross_us_canada', 'opening_weekend_gross', 'directors', 'writers', 'stars', 'genres', 'countries_origin', 'filming_locations', 'production_companies', 'languages', 'wins', 'nominations', 'oscars']\n"
     ]
    }
   ],
   "source": [
    "df = df.rename(columns={\"Title\": \"title\", \"Year\": \"year\", \"Duration\": \"duration\", \"MPA\": \"mpa\", \"Rating\": \"rating\", \"Votes\": \"votes\", \"grossWorldWide\": \"gross_worldwide\", \"gross_US_Canada\": \"gross_us_canada\", \"opening_weekend_Gross\": \"opening_weekend_gross\", \"Languages\": \"languages\"})\n",
    "print(df.columns.tolist())"
   ]
  },
  {
   "cell_type": "code",
   "execution_count": 923,
   "id": "732a6e79-2eac-4bbf-85b9-41c4115d2e54",
   "metadata": {
    "scrolled": true
   },
   "outputs": [
    {
     "data": {
      "text/html": [
       "<div>\n",
       "<style scoped>\n",
       "    .dataframe tbody tr th:only-of-type {\n",
       "        vertical-align: middle;\n",
       "    }\n",
       "\n",
       "    .dataframe tbody tr th {\n",
       "        vertical-align: top;\n",
       "    }\n",
       "\n",
       "    .dataframe thead th {\n",
       "        text-align: right;\n",
       "    }\n",
       "</style>\n",
       "<table border=\"1\" class=\"dataframe\">\n",
       "  <thead>\n",
       "    <tr style=\"text-align: right;\">\n",
       "      <th></th>\n",
       "      <th>title</th>\n",
       "      <th>year</th>\n",
       "      <th>duration</th>\n",
       "      <th>mpa</th>\n",
       "      <th>rating</th>\n",
       "      <th>votes</th>\n",
       "      <th>budget</th>\n",
       "      <th>gross_worldwide</th>\n",
       "      <th>gross_us_canada</th>\n",
       "      <th>opening_weekend_gross</th>\n",
       "      <th>...</th>\n",
       "      <th>writers</th>\n",
       "      <th>stars</th>\n",
       "      <th>genres</th>\n",
       "      <th>countries_origin</th>\n",
       "      <th>filming_locations</th>\n",
       "      <th>production_companies</th>\n",
       "      <th>languages</th>\n",
       "      <th>wins</th>\n",
       "      <th>nominations</th>\n",
       "      <th>oscars</th>\n",
       "    </tr>\n",
       "  </thead>\n",
       "  <tbody>\n",
       "    <tr>\n",
       "      <th>0</th>\n",
       "      <td>Jaws</td>\n",
       "      <td>1975</td>\n",
       "      <td>2h 4m</td>\n",
       "      <td>PG</td>\n",
       "      <td>8.1</td>\n",
       "      <td>683K</td>\n",
       "      <td>7000000.0</td>\n",
       "      <td>477220580.0</td>\n",
       "      <td>266567580.0</td>\n",
       "      <td>7061513.0</td>\n",
       "      <td>...</td>\n",
       "      <td>['Peter Benchley', 'Carl Gottlieb']</td>\n",
       "      <td>['Roy Scheider', 'Robert Shaw', 'Richard Dreyf...</td>\n",
       "      <td>['Monster Horror', 'Sea Adventure', 'Survival'...</td>\n",
       "      <td>['United States']</td>\n",
       "      <td>[\"Water Street, Edgartown, Martha's Vineyard, ...</td>\n",
       "      <td>['Zanuck/Brown Productions', 'Universal Pictur...</td>\n",
       "      <td>['English']</td>\n",
       "      <td>0</td>\n",
       "      <td>20</td>\n",
       "      <td>0</td>\n",
       "    </tr>\n",
       "    <tr>\n",
       "      <th>1</th>\n",
       "      <td>The Rocky Horror Picture Show</td>\n",
       "      <td>1975</td>\n",
       "      <td>1h 40m</td>\n",
       "      <td>R</td>\n",
       "      <td>7.4</td>\n",
       "      <td>173K</td>\n",
       "      <td>1200000.0</td>\n",
       "      <td>115798478.0</td>\n",
       "      <td>112892319.0</td>\n",
       "      <td>NaN</td>\n",
       "      <td>...</td>\n",
       "      <td>[\"Richard O'Brien\", 'Jim Sharman']</td>\n",
       "      <td>['Tim Curry', 'Susan Sarandon', 'Barry Bostwick']</td>\n",
       "      <td>['Dark Comedy', 'Raunchy Comedy', 'Rock Musica...</td>\n",
       "      <td>['United Kingdom', 'United States']</td>\n",
       "      <td>['Oakley Court, Windsor Road, Oakley Green, Wi...</td>\n",
       "      <td>['Twentieth Century Fox', 'Michael White Produ...</td>\n",
       "      <td>['English']</td>\n",
       "      <td>0</td>\n",
       "      <td>4</td>\n",
       "      <td>0</td>\n",
       "    </tr>\n",
       "    <tr>\n",
       "      <th>2</th>\n",
       "      <td>One Flew Over the Cuckoo's Nest</td>\n",
       "      <td>1975</td>\n",
       "      <td>2h 13m</td>\n",
       "      <td>R</td>\n",
       "      <td>8.7</td>\n",
       "      <td>1.1M</td>\n",
       "      <td>3000000.0</td>\n",
       "      <td>109115366.0</td>\n",
       "      <td>108981275.0</td>\n",
       "      <td>NaN</td>\n",
       "      <td>...</td>\n",
       "      <td>['Lawrence Hauben', 'Bo Goldman', 'Ken Kesey']</td>\n",
       "      <td>['Jack Nicholson', 'Louise Fletcher', 'Michael...</td>\n",
       "      <td>['Medical Drama', 'Psychological Drama', 'Drama']</td>\n",
       "      <td>['United States']</td>\n",
       "      <td>['Oregon State Mental Hospital - 2600 Center S...</td>\n",
       "      <td>['Fantasy Films', 'N.V. Zvaluw']</td>\n",
       "      <td>['English']</td>\n",
       "      <td>0</td>\n",
       "      <td>15</td>\n",
       "      <td>0</td>\n",
       "    </tr>\n",
       "    <tr>\n",
       "      <th>3</th>\n",
       "      <td>Dog Day Afternoon</td>\n",
       "      <td>1975</td>\n",
       "      <td>2h 5m</td>\n",
       "      <td>R</td>\n",
       "      <td>8.0</td>\n",
       "      <td>279K</td>\n",
       "      <td>1800000.0</td>\n",
       "      <td>50002721.0</td>\n",
       "      <td>50000000.0</td>\n",
       "      <td>NaN</td>\n",
       "      <td>...</td>\n",
       "      <td>['Frank Pierson', 'P.F. Kluge', 'Thomas Moore']</td>\n",
       "      <td>['Al Pacino', 'John Cazale', 'Penelope Allen']</td>\n",
       "      <td>['Heist', 'True Crime', 'Biography', 'Crime', ...</td>\n",
       "      <td>['United States']</td>\n",
       "      <td>['285 Prospect Park West, Brooklyn, New York C...</td>\n",
       "      <td>['Warner Bros.', 'Artists Entertainment Complex']</td>\n",
       "      <td>['English']</td>\n",
       "      <td>0</td>\n",
       "      <td>20</td>\n",
       "      <td>0</td>\n",
       "    </tr>\n",
       "    <tr>\n",
       "      <th>4</th>\n",
       "      <td>Shampoo</td>\n",
       "      <td>1975</td>\n",
       "      <td>1h 50m</td>\n",
       "      <td>R</td>\n",
       "      <td>6.4</td>\n",
       "      <td>15K</td>\n",
       "      <td>4000000.0</td>\n",
       "      <td>49407734.0</td>\n",
       "      <td>49407734.0</td>\n",
       "      <td>NaN</td>\n",
       "      <td>...</td>\n",
       "      <td>['Robert Towne', 'Warren Beatty']</td>\n",
       "      <td>['Warren Beatty', 'Julie Christie', 'Goldie Ha...</td>\n",
       "      <td>['Satire', 'Comedy', 'Drama']</td>\n",
       "      <td>['United States']</td>\n",
       "      <td>['2270 Bowmont Drive, Beverly Hills, Californi...</td>\n",
       "      <td>['Persky-Bright / Vista', 'Columbia Pictures',...</td>\n",
       "      <td>['English']</td>\n",
       "      <td>0</td>\n",
       "      <td>11</td>\n",
       "      <td>0</td>\n",
       "    </tr>\n",
       "    <tr>\n",
       "      <th>...</th>\n",
       "      <td>...</td>\n",
       "      <td>...</td>\n",
       "      <td>...</td>\n",
       "      <td>...</td>\n",
       "      <td>...</td>\n",
       "      <td>...</td>\n",
       "      <td>...</td>\n",
       "      <td>...</td>\n",
       "      <td>...</td>\n",
       "      <td>...</td>\n",
       "      <td>...</td>\n",
       "      <td>...</td>\n",
       "      <td>...</td>\n",
       "      <td>...</td>\n",
       "      <td>...</td>\n",
       "      <td>...</td>\n",
       "      <td>...</td>\n",
       "      <td>...</td>\n",
       "      <td>...</td>\n",
       "      <td>...</td>\n",
       "      <td>...</td>\n",
       "    </tr>\n",
       "    <tr>\n",
       "      <th>33595</th>\n",
       "      <td>The South</td>\n",
       "      <td>1988</td>\n",
       "      <td>2h 7m</td>\n",
       "      <td>R</td>\n",
       "      <td>7.3</td>\n",
       "      <td>1.1K</td>\n",
       "      <td>NaN</td>\n",
       "      <td>NaN</td>\n",
       "      <td>NaN</td>\n",
       "      <td>NaN</td>\n",
       "      <td>...</td>\n",
       "      <td>['Fernando E. Solanas']</td>\n",
       "      <td>['Susú Pecoraro', 'Miguel Ángel Solá', 'Philip...</td>\n",
       "      <td>['Drama']</td>\n",
       "      <td>['Argentina', 'France']</td>\n",
       "      <td>['Buenos Aires, Federal District, Argentina']</td>\n",
       "      <td>['Canal+', 'Cinesur (Envar El Kadri)', 'Produc...</td>\n",
       "      <td>['Spanish', 'French']</td>\n",
       "      <td>0</td>\n",
       "      <td>2</td>\n",
       "      <td>0</td>\n",
       "    </tr>\n",
       "    <tr>\n",
       "      <th>33596</th>\n",
       "      <td>El cabaretero y sus golfas</td>\n",
       "      <td>1988</td>\n",
       "      <td>1h 25m</td>\n",
       "      <td>NaN</td>\n",
       "      <td>4.9</td>\n",
       "      <td>12</td>\n",
       "      <td>NaN</td>\n",
       "      <td>NaN</td>\n",
       "      <td>NaN</td>\n",
       "      <td>NaN</td>\n",
       "      <td>...</td>\n",
       "      <td>['Raúl Marcelo']</td>\n",
       "      <td>['Raúl Ramírez', 'Raúl Marcelo', 'Marcela Davi...</td>\n",
       "      <td>['Comedy']</td>\n",
       "      <td>['Mexico']</td>\n",
       "      <td>NaN</td>\n",
       "      <td>NaN</td>\n",
       "      <td>['Spanish']</td>\n",
       "      <td>0</td>\n",
       "      <td>0</td>\n",
       "      <td>0</td>\n",
       "    </tr>\n",
       "    <tr>\n",
       "      <th>33597</th>\n",
       "      <td>BraveStarr: The Legend</td>\n",
       "      <td>1988</td>\n",
       "      <td>1h 31m</td>\n",
       "      <td>PG</td>\n",
       "      <td>6.8</td>\n",
       "      <td>1.3K</td>\n",
       "      <td>NaN</td>\n",
       "      <td>NaN</td>\n",
       "      <td>NaN</td>\n",
       "      <td>NaN</td>\n",
       "      <td>...</td>\n",
       "      <td>['Bob Forward', 'Steve Hayes']</td>\n",
       "      <td>['Charlie Adler', 'Susan Blu', 'Pat Fraley']</td>\n",
       "      <td>['Superhero', 'Action', 'Adventure', 'Animatio...</td>\n",
       "      <td>['United States']</td>\n",
       "      <td>NaN</td>\n",
       "      <td>['Filmation Associates']</td>\n",
       "      <td>['English']</td>\n",
       "      <td>0</td>\n",
       "      <td>0</td>\n",
       "      <td>0</td>\n",
       "    </tr>\n",
       "    <tr>\n",
       "      <th>33598</th>\n",
       "      <td>Fighting Madam 2</td>\n",
       "      <td>1988</td>\n",
       "      <td>1h 30m</td>\n",
       "      <td>NaN</td>\n",
       "      <td>6.3</td>\n",
       "      <td>337</td>\n",
       "      <td>NaN</td>\n",
       "      <td>NaN</td>\n",
       "      <td>NaN</td>\n",
       "      <td>NaN</td>\n",
       "      <td>...</td>\n",
       "      <td>['William Hsu', 'Teresa Woo', 'Larry Dolgin']</td>\n",
       "      <td>['Alex Fong', 'Moon Lee', 'Elaine Lui']</td>\n",
       "      <td>['Action']</td>\n",
       "      <td>['Hong Kong']</td>\n",
       "      <td>['Kuala Lumpur, Malaysia']</td>\n",
       "      <td>['Molesworth Limited']</td>\n",
       "      <td>['Cantonese', 'Mandarin']</td>\n",
       "      <td>0</td>\n",
       "      <td>0</td>\n",
       "      <td>0</td>\n",
       "    </tr>\n",
       "    <tr>\n",
       "      <th>33599</th>\n",
       "      <td>Saturday the 14th Strikes Back</td>\n",
       "      <td>1988</td>\n",
       "      <td>1h 18m</td>\n",
       "      <td>PG</td>\n",
       "      <td>3.1</td>\n",
       "      <td>737</td>\n",
       "      <td>NaN</td>\n",
       "      <td>NaN</td>\n",
       "      <td>NaN</td>\n",
       "      <td>NaN</td>\n",
       "      <td>...</td>\n",
       "      <td>['Howard R. Cohen']</td>\n",
       "      <td>['Ray Walston', 'Avery Schreiber', 'Patty McCo...</td>\n",
       "      <td>['Comedy', 'Fantasy', 'Horror', 'Sci-Fi']</td>\n",
       "      <td>['United States']</td>\n",
       "      <td>['Venice, California, USA']</td>\n",
       "      <td>['Pacific Trust']</td>\n",
       "      <td>['English']</td>\n",
       "      <td>0</td>\n",
       "      <td>0</td>\n",
       "      <td>0</td>\n",
       "    </tr>\n",
       "  </tbody>\n",
       "</table>\n",
       "<p>33600 rows × 21 columns</p>\n",
       "</div>"
      ],
      "text/plain": [
       "                                 title  year duration  mpa  rating votes  \\\n",
       "0                                 Jaws  1975    2h 4m   PG     8.1  683K   \n",
       "1        The Rocky Horror Picture Show  1975   1h 40m    R     7.4  173K   \n",
       "2      One Flew Over the Cuckoo's Nest  1975   2h 13m    R     8.7  1.1M   \n",
       "3                    Dog Day Afternoon  1975    2h 5m    R     8.0  279K   \n",
       "4                              Shampoo  1975   1h 50m    R     6.4   15K   \n",
       "...                                ...   ...      ...  ...     ...   ...   \n",
       "33595                        The South  1988    2h 7m    R     7.3  1.1K   \n",
       "33596       El cabaretero y sus golfas  1988   1h 25m  NaN     4.9    12   \n",
       "33597           BraveStarr: The Legend  1988   1h 31m   PG     6.8  1.3K   \n",
       "33598                 Fighting Madam 2  1988   1h 30m  NaN     6.3   337   \n",
       "33599   Saturday the 14th Strikes Back  1988   1h 18m   PG     3.1   737   \n",
       "\n",
       "          budget  gross_worldwide  gross_us_canada  opening_weekend_gross  \\\n",
       "0      7000000.0      477220580.0      266567580.0              7061513.0   \n",
       "1      1200000.0      115798478.0      112892319.0                    NaN   \n",
       "2      3000000.0      109115366.0      108981275.0                    NaN   \n",
       "3      1800000.0       50002721.0       50000000.0                    NaN   \n",
       "4      4000000.0       49407734.0       49407734.0                    NaN   \n",
       "...          ...              ...              ...                    ...   \n",
       "33595        NaN              NaN              NaN                    NaN   \n",
       "33596        NaN              NaN              NaN                    NaN   \n",
       "33597        NaN              NaN              NaN                    NaN   \n",
       "33598        NaN              NaN              NaN                    NaN   \n",
       "33599        NaN              NaN              NaN                    NaN   \n",
       "\n",
       "       ...                                          writers  \\\n",
       "0      ...              ['Peter Benchley', 'Carl Gottlieb']   \n",
       "1      ...               [\"Richard O'Brien\", 'Jim Sharman']   \n",
       "2      ...   ['Lawrence Hauben', 'Bo Goldman', 'Ken Kesey']   \n",
       "3      ...  ['Frank Pierson', 'P.F. Kluge', 'Thomas Moore']   \n",
       "4      ...                ['Robert Towne', 'Warren Beatty']   \n",
       "...    ...                                              ...   \n",
       "33595  ...                          ['Fernando E. Solanas']   \n",
       "33596  ...                                 ['Raúl Marcelo']   \n",
       "33597  ...                   ['Bob Forward', 'Steve Hayes']   \n",
       "33598  ...    ['William Hsu', 'Teresa Woo', 'Larry Dolgin']   \n",
       "33599  ...                              ['Howard R. Cohen']   \n",
       "\n",
       "                                                   stars  \\\n",
       "0      ['Roy Scheider', 'Robert Shaw', 'Richard Dreyf...   \n",
       "1      ['Tim Curry', 'Susan Sarandon', 'Barry Bostwick']   \n",
       "2      ['Jack Nicholson', 'Louise Fletcher', 'Michael...   \n",
       "3         ['Al Pacino', 'John Cazale', 'Penelope Allen']   \n",
       "4      ['Warren Beatty', 'Julie Christie', 'Goldie Ha...   \n",
       "...                                                  ...   \n",
       "33595  ['Susú Pecoraro', 'Miguel Ángel Solá', 'Philip...   \n",
       "33596  ['Raúl Ramírez', 'Raúl Marcelo', 'Marcela Davi...   \n",
       "33597       ['Charlie Adler', 'Susan Blu', 'Pat Fraley']   \n",
       "33598            ['Alex Fong', 'Moon Lee', 'Elaine Lui']   \n",
       "33599  ['Ray Walston', 'Avery Schreiber', 'Patty McCo...   \n",
       "\n",
       "                                                  genres  \\\n",
       "0      ['Monster Horror', 'Sea Adventure', 'Survival'...   \n",
       "1      ['Dark Comedy', 'Raunchy Comedy', 'Rock Musica...   \n",
       "2      ['Medical Drama', 'Psychological Drama', 'Drama']   \n",
       "3      ['Heist', 'True Crime', 'Biography', 'Crime', ...   \n",
       "4                          ['Satire', 'Comedy', 'Drama']   \n",
       "...                                                  ...   \n",
       "33595                                          ['Drama']   \n",
       "33596                                         ['Comedy']   \n",
       "33597  ['Superhero', 'Action', 'Adventure', 'Animatio...   \n",
       "33598                                         ['Action']   \n",
       "33599          ['Comedy', 'Fantasy', 'Horror', 'Sci-Fi']   \n",
       "\n",
       "                          countries_origin  \\\n",
       "0                        ['United States']   \n",
       "1      ['United Kingdom', 'United States']   \n",
       "2                        ['United States']   \n",
       "3                        ['United States']   \n",
       "4                        ['United States']   \n",
       "...                                    ...   \n",
       "33595              ['Argentina', 'France']   \n",
       "33596                           ['Mexico']   \n",
       "33597                    ['United States']   \n",
       "33598                        ['Hong Kong']   \n",
       "33599                    ['United States']   \n",
       "\n",
       "                                       filming_locations  \\\n",
       "0      [\"Water Street, Edgartown, Martha's Vineyard, ...   \n",
       "1      ['Oakley Court, Windsor Road, Oakley Green, Wi...   \n",
       "2      ['Oregon State Mental Hospital - 2600 Center S...   \n",
       "3      ['285 Prospect Park West, Brooklyn, New York C...   \n",
       "4      ['2270 Bowmont Drive, Beverly Hills, Californi...   \n",
       "...                                                  ...   \n",
       "33595      ['Buenos Aires, Federal District, Argentina']   \n",
       "33596                                                NaN   \n",
       "33597                                                NaN   \n",
       "33598                         ['Kuala Lumpur, Malaysia']   \n",
       "33599                        ['Venice, California, USA']   \n",
       "\n",
       "                                    production_companies  \\\n",
       "0      ['Zanuck/Brown Productions', 'Universal Pictur...   \n",
       "1      ['Twentieth Century Fox', 'Michael White Produ...   \n",
       "2                       ['Fantasy Films', 'N.V. Zvaluw']   \n",
       "3      ['Warner Bros.', 'Artists Entertainment Complex']   \n",
       "4      ['Persky-Bright / Vista', 'Columbia Pictures',...   \n",
       "...                                                  ...   \n",
       "33595  ['Canal+', 'Cinesur (Envar El Kadri)', 'Produc...   \n",
       "33596                                                NaN   \n",
       "33597                           ['Filmation Associates']   \n",
       "33598                             ['Molesworth Limited']   \n",
       "33599                                  ['Pacific Trust']   \n",
       "\n",
       "                       languages wins  nominations  oscars  \n",
       "0                    ['English']    0           20       0  \n",
       "1                    ['English']    0            4       0  \n",
       "2                    ['English']    0           15       0  \n",
       "3                    ['English']    0           20       0  \n",
       "4                    ['English']    0           11       0  \n",
       "...                          ...  ...          ...     ...  \n",
       "33595      ['Spanish', 'French']    0            2       0  \n",
       "33596                ['Spanish']    0            0       0  \n",
       "33597                ['English']    0            0       0  \n",
       "33598  ['Cantonese', 'Mandarin']    0            0       0  \n",
       "33599                ['English']    0            0       0  \n",
       "\n",
       "[33600 rows x 21 columns]"
      ]
     },
     "execution_count": 923,
     "metadata": {},
     "output_type": "execute_result"
    }
   ],
   "source": [
    "df"
   ]
  },
  {
   "cell_type": "markdown",
   "id": "37f402e6-439a-4605-a542-178b957ef019",
   "metadata": {},
   "source": [
    "After looking over the data, a few revelations have appeared. Every single item in the 'wins' column is 0. Clearly, something went wrong with the data collection for the Kaggle dataset. We will have to remove this column. The 'nominations' column is quite inconsistent. A huge film like Jaws (1975) has 20 nominations whereas Barbie (2023) has 433. This is not to say that Barbie was not huge, but rather, it highlights the inconsistency in this column. There are clearly a lot more awards and nominations globally now than there were in the past and it doesn't seem fair to compare them in this way. Finally, the 'oscars' column has incorrect data. Just looking at the first 3 rows, Jaws won 3 Oscars but the dataset says 0. One Flew Over the Cuckoo's Nest won 5 Oscars but again, the dataset says 0. It is not possible to find correct figures for all of these films in a reasonable amount of time so this column will also have to be removed."
   ]
  },
  {
   "cell_type": "code",
   "execution_count": 924,
   "id": "e9302ad0-d637-49ca-b959-92ecbb16ddce",
   "metadata": {},
   "outputs": [],
   "source": [
    "df = df.drop([\"wins\", \"nominations\", \"oscars\"], axis = \"columns\")"
   ]
  },
  {
   "cell_type": "markdown",
   "id": "d5d67dfe-8558-4857-8c08-3ae2b0f61f2f",
   "metadata": {},
   "source": [
    "In addition, the filming locations seem to serve little purpose as they have varying levels of specificity, which makes everything quite uneven. Also, a lot of the data will ultimately be covered by 'countries_origin'. Therefore, we will drop this column as well."
   ]
  },
  {
   "cell_type": "code",
   "execution_count": 925,
   "id": "0df07d88-30e5-4474-8a00-cca802190add",
   "metadata": {},
   "outputs": [
    {
     "data": {
      "text/plain": [
       "['title',\n",
       " 'year',\n",
       " 'duration',\n",
       " 'mpa',\n",
       " 'rating',\n",
       " 'votes',\n",
       " 'budget',\n",
       " 'gross_worldwide',\n",
       " 'gross_us_canada',\n",
       " 'opening_weekend_gross',\n",
       " 'directors',\n",
       " 'writers',\n",
       " 'stars',\n",
       " 'genres',\n",
       " 'countries_origin',\n",
       " 'production_companies',\n",
       " 'languages']"
      ]
     },
     "execution_count": 925,
     "metadata": {},
     "output_type": "execute_result"
    }
   ],
   "source": [
    "df = df.drop(\"filming_locations\", axis = \"columns\")\n",
    "df.columns.tolist()"
   ]
  },
  {
   "cell_type": "markdown",
   "id": "75ef6157-2fd4-486f-bc41-ba9c736cf524",
   "metadata": {},
   "source": [
    "### **1.3 Preprocessing**"
   ]
  },
  {
   "cell_type": "markdown",
   "id": "d80ed153-2e70-4dc4-a478-b5f3ca8a0977",
   "metadata": {},
   "source": [
    "The next step is to clean the data, deal with any missing or incorrect values, and, in general, get the data ready to be used in the model. First, let's deal with any missing values. We should first count how many rows in the dataset contain one or more missing values."
   ]
  },
  {
   "cell_type": "code",
   "execution_count": 926,
   "id": "d2355e15-e98b-4096-a892-2d2cb1a4cb1a",
   "metadata": {},
   "outputs": [
    {
     "data": {
      "text/plain": [
       "25559"
      ]
     },
     "execution_count": 926,
     "metadata": {},
     "output_type": "execute_result"
    }
   ],
   "source": [
    "df.isna().any(axis=1).sum()"
   ]
  },
  {
   "cell_type": "markdown",
   "id": "44f5292a-0937-4934-b57e-af25234e00df",
   "metadata": {},
   "source": [
    "25889 out of 33600 rows contain one or more missing values. This is a very significant number so we need to attempt to deal with the missing values in ways other than dropping the row entirely. Let's see which columns contain missing values and how many. This will give us an idea of what needs to be dealt with and how it should be done. If a column with numerical data contains only a few missing values, it would generally be fair to use an average to fill in the gaps. However, if a column with numerical data contains a large number of missing values, we may need to find another way of representing the empty spaces."
   ]
  },
  {
   "cell_type": "code",
   "execution_count": 927,
   "id": "c2a725a2-09be-4e43-9e34-55fa53d13b82",
   "metadata": {},
   "outputs": [
    {
     "data": {
      "text/plain": [
       "title                        0\n",
       "year                         0\n",
       "duration                   221\n",
       "mpa                       7976\n",
       "rating                     138\n",
       "votes                      138\n",
       "budget                   21785\n",
       "gross_worldwide          15378\n",
       "gross_us_canada          16029\n",
       "opening_weekend_gross    18077\n",
       "directors                  359\n",
       "writers                   1576\n",
       "stars                      473\n",
       "genres                     382\n",
       "countries_origin           366\n",
       "production_companies      1378\n",
       "languages                  474\n",
       "dtype: int64"
      ]
     },
     "execution_count": 927,
     "metadata": {},
     "output_type": "execute_result"
    }
   ],
   "source": [
    "df.isna().sum(axis=0)"
   ]
  },
  {
   "cell_type": "markdown",
   "id": "1dbca18c-5961-4f0b-b213-50420ca16f63",
   "metadata": {},
   "source": [
    "The standout issue here is 15,378 missing values in gross_worldwide, which is, of course, the target variable. It doesn't seem right to try to estimate these values, especially when the directly related values in gross_us_canada and opening_weekend_gross have even higher numbers of missing values. Therefore, the best approach appears to be ignoring the rows that don't have a gross_worldwide figure. Once we have done this, we can examine the resulting missing value statistics."
   ]
  },
  {
   "cell_type": "code",
   "execution_count": 928,
   "id": "97491803-951c-4760-bbf2-75a2af7043f2",
   "metadata": {},
   "outputs": [
    {
     "data": {
      "text/plain": [
       "title                       0\n",
       "year                        0\n",
       "duration                   31\n",
       "mpa                      2084\n",
       "rating                     46\n",
       "votes                      46\n",
       "budget                   8816\n",
       "gross_worldwide             0\n",
       "gross_us_canada          1239\n",
       "opening_weekend_gross    2773\n",
       "directors                  60\n",
       "writers                   923\n",
       "stars                     169\n",
       "genres                     36\n",
       "countries_origin           76\n",
       "production_companies      380\n",
       "languages                 121\n",
       "dtype: int64"
      ]
     },
     "execution_count": 928,
     "metadata": {},
     "output_type": "execute_result"
    }
   ],
   "source": [
    "df = df[df[\"gross_worldwide\"].notna()]\n",
    "df.isna().sum(axis=0)"
   ]
  },
  {
   "cell_type": "code",
   "execution_count": 929,
   "id": "151e301e-62b6-4a6a-8f12-c7b280ef0ddd",
   "metadata": {},
   "outputs": [
    {
     "data": {
      "text/plain": [
       "18222"
      ]
     },
     "execution_count": 929,
     "metadata": {},
     "output_type": "execute_result"
    }
   ],
   "source": [
    "df.shape[0]"
   ]
  },
  {
   "cell_type": "markdown",
   "id": "eadae97d-3d22-428f-9d62-a2468401105e",
   "metadata": {},
   "source": [
    "So we have 18222 rows remaining. It's a significant drop from the initial 33,600 but it's still quite a good amount of data. It makes sense to drop any columns first so there is less data to manipulate later. All of the other columns can be filled with substitute values. \n",
    "\n",
    "It is notable that nearly half of the remaining dataset is missing its budget. Let's replace those missing values with -1.0 to represent that the data is missing. This means we don't dramatically reduce the amount of data."
   ]
  },
  {
   "cell_type": "code",
   "execution_count": 930,
   "id": "46fc1779-4d9e-4655-8fde-4b104d15868f",
   "metadata": {},
   "outputs": [
    {
     "data": {
      "text/plain": [
       "0        7000000.0\n",
       "1        1200000.0\n",
       "2        3000000.0\n",
       "3        1800000.0\n",
       "4        4000000.0\n",
       "           ...    \n",
       "33470         -1.0\n",
       "33486         -1.0\n",
       "33502         -1.0\n",
       "33535         -1.0\n",
       "33569         -1.0\n",
       "Name: budget, Length: 18222, dtype: float64"
      ]
     },
     "execution_count": 930,
     "metadata": {},
     "output_type": "execute_result"
    }
   ],
   "source": [
    "df.loc[:,\"budget\"] = df[\"budget\"].fillna(-1.0).copy()\n",
    "df[\"budget\"]"
   ]
  },
  {
   "cell_type": "code",
   "execution_count": 931,
   "id": "d6ba9b42-7d73-41e0-8887-5547402db7d9",
   "metadata": {},
   "outputs": [
    {
     "data": {
      "text/plain": [
       "0"
      ]
     },
     "execution_count": 931,
     "metadata": {},
     "output_type": "execute_result"
    }
   ],
   "source": [
    "df[\"budget\"].isna().sum()"
   ]
  },
  {
   "cell_type": "markdown",
   "id": "63b0ff6f-6386-45f1-8659-7bfba55adc0b",
   "metadata": {},
   "source": [
    "It makes sense to do the same with gross_us_canada and opening_weekend_gross as there is a substantial number of missing values for these columns and we don't want to risk introducing bias or misleading information by approximating the values."
   ]
  },
  {
   "cell_type": "code",
   "execution_count": 932,
   "id": "8aae61cd-d991-4a2c-8f5f-cd637ca074bc",
   "metadata": {},
   "outputs": [
    {
     "data": {
      "text/plain": [
       "title                       0\n",
       "year                        0\n",
       "duration                   31\n",
       "mpa                      2084\n",
       "rating                     46\n",
       "votes                      46\n",
       "budget                      0\n",
       "gross_worldwide             0\n",
       "gross_us_canada             0\n",
       "opening_weekend_gross       0\n",
       "directors                  60\n",
       "writers                   923\n",
       "stars                     169\n",
       "genres                     36\n",
       "countries_origin           76\n",
       "production_companies      380\n",
       "languages                 121\n",
       "dtype: int64"
      ]
     },
     "execution_count": 932,
     "metadata": {},
     "output_type": "execute_result"
    }
   ],
   "source": [
    "df.loc[:,\"gross_us_canada\"] = df[\"gross_us_canada\"].fillna(-1.0).copy()\n",
    "df.loc[:,\"opening_weekend_gross\"] = df[\"opening_weekend_gross\"].fillna(-1.0).copy()\n",
    "df.isna().sum(axis=0)"
   ]
  },
  {
   "cell_type": "markdown",
   "id": "f019ce8f-3885-4302-8ed5-0a669ec5fc18",
   "metadata": {},
   "source": [
    "The numerical columns with few missing values can be approximated using the median without introducing any bias. Here, duration, rating and votes fall into this category so let's approximate the missing values with the median of each column. Median was chosen bc it ignores the effects of outliers.\n",
    "\n",
    "However, we must do some adjustment first. Duration values are stored as _h _m so we need to convert that to a numerical value first, which will be in minutes. Votes are stored as _K or _M representing thousand and million respectively."
   ]
  },
  {
   "cell_type": "code",
   "execution_count": 933,
   "id": "966b4c24-fa3a-4b48-a596-da934fa14e60",
   "metadata": {},
   "outputs": [
    {
     "name": "stdout",
     "output_type": "stream",
     "text": [
      "0        124.0\n",
      "1        100.0\n",
      "2        133.0\n",
      "3        125.0\n",
      "4        110.0\n",
      "         ...  \n",
      "33470     99.0\n",
      "33486     90.0\n",
      "33502    128.0\n",
      "33535    173.0\n",
      "33569    131.0\n",
      "Name: duration, Length: 18222, dtype: float64\n"
     ]
    }
   ],
   "source": [
    "df = df.copy()\n",
    "df[\"duration_hours\"] = df[\"duration\"].str.extract(r\"(\\d+)h\").astype(float).fillna(0) * 60\n",
    "df[\"duration_minutes\"] = df[\"duration\"].str.extract(r\"(\\d+)m\").astype(float).fillna(0)\n",
    "df[\"duration\"] = df[\"duration_hours\"] + df[\"duration_minutes\"]\n",
    "df = df.drop([\"duration_hours\", \"duration_minutes\"], axis = \"columns\")\n",
    "print(df[\"duration\"])"
   ]
  },
  {
   "cell_type": "code",
   "execution_count": 934,
   "id": "b8d91767-1ae1-4511-a5da-205c1964d46f",
   "metadata": {},
   "outputs": [
    {
     "data": {
      "text/plain": [
       "0         683000.0\n",
       "1         173000.0\n",
       "2        1100000.0\n",
       "3         279000.0\n",
       "4          15000.0\n",
       "           ...    \n",
       "33470       1600.0\n",
       "33486        514.0\n",
       "33502       2300.0\n",
       "33535        669.0\n",
       "33569       1300.0\n",
       "Name: votes, Length: 18222, dtype: float64"
      ]
     },
     "execution_count": 934,
     "metadata": {},
     "output_type": "execute_result"
    }
   ],
   "source": [
    "df[\"votes\"] = df[\"votes\"].str.replace(\"K\", \"e3\").str.replace(\"M\", \"e6\").astype(float)\n",
    "df[\"votes\"]"
   ]
  },
  {
   "cell_type": "code",
   "execution_count": 935,
   "id": "4e5b0551-547b-4f75-a27c-32ba334cc594",
   "metadata": {},
   "outputs": [
    {
     "data": {
      "text/plain": [
       "0        8.1\n",
       "1        7.4\n",
       "2        8.7\n",
       "3        8.0\n",
       "4        6.4\n",
       "        ... \n",
       "33470    7.2\n",
       "33486    6.9\n",
       "33502    7.1\n",
       "33535    6.4\n",
       "33569    7.0\n",
       "Name: rating, Length: 18222, dtype: float64"
      ]
     },
     "execution_count": 935,
     "metadata": {},
     "output_type": "execute_result"
    }
   ],
   "source": [
    "df[\"rating\"]"
   ]
  },
  {
   "cell_type": "code",
   "execution_count": 936,
   "id": "8818da0c-bdb3-4031-b7f3-08623358b117",
   "metadata": {},
   "outputs": [
    {
     "data": {
      "text/plain": [
       "title                       0\n",
       "year                        0\n",
       "duration                    0\n",
       "mpa                      2084\n",
       "rating                      0\n",
       "votes                       0\n",
       "budget                      0\n",
       "gross_worldwide             0\n",
       "gross_us_canada             0\n",
       "opening_weekend_gross       0\n",
       "directors                  60\n",
       "writers                   923\n",
       "stars                     169\n",
       "genres                     36\n",
       "countries_origin           76\n",
       "production_companies      380\n",
       "languages                 121\n",
       "dtype: int64"
      ]
     },
     "execution_count": 936,
     "metadata": {},
     "output_type": "execute_result"
    }
   ],
   "source": [
    "df[\"duration\"] = df[\"duration\"].replace(0.0, df[\"duration\"].median())\n",
    "df[\"rating\"] = df[\"rating\"].fillna(df[\"rating\"].median())\n",
    "df[\"votes\"] = df[\"votes\"].fillna(df[\"votes\"].median())\n",
    "df.isna().sum(axis=0)"
   ]
  },
  {
   "cell_type": "markdown",
   "id": "f7876e20-ccd0-4fcb-b9dd-182b3289dec8",
   "metadata": {},
   "source": [
    "There are already some values in the 'mpa' column that reflect that the data was not available, represented by the phrase 'Not Rated'. Therefore, we will replace all missing mpa values with the same phrase."
   ]
  },
  {
   "cell_type": "code",
   "execution_count": 937,
   "id": "1ada629b-b156-41d6-89f1-1d292b683128",
   "metadata": {},
   "outputs": [
    {
     "data": {
      "text/plain": [
       "28       Not Rated\n",
       "31       Not Rated\n",
       "47       Not Rated\n",
       "174      Not Rated\n",
       "175      Not Rated\n",
       "           ...    \n",
       "33365    Not Rated\n",
       "33430    Not Rated\n",
       "33470    Not Rated\n",
       "33502    Not Rated\n",
       "33535    Not Rated\n",
       "Name: mpa, Length: 2484, dtype: object"
      ]
     },
     "execution_count": 937,
     "metadata": {},
     "output_type": "execute_result"
    }
   ],
   "source": [
    "df[\"mpa\"].loc[df[\"mpa\"] == \"Not Rated\"]"
   ]
  },
  {
   "cell_type": "code",
   "execution_count": 938,
   "id": "b9051726-531f-434c-8500-dcd0bd7a2aca",
   "metadata": {},
   "outputs": [
    {
     "data": {
      "text/plain": [
       "0"
      ]
     },
     "execution_count": 938,
     "metadata": {},
     "output_type": "execute_result"
    }
   ],
   "source": [
    "df[\"mpa\"] = df[\"mpa\"].fillna(\"Not Rated\")\n",
    "df[\"mpa\"].isna().sum()"
   ]
  },
  {
   "cell_type": "markdown",
   "id": "fe7126ea-3e2e-4afc-9903-df297e8c8f07",
   "metadata": {},
   "source": [
    "The remaining columns containing missing values are all string-based. To deal with any missing values, the most sensible solution is to replace them with 'Unknown' to avoid losing any data. Of course, there is no value that we can use to approximate values in these cases except mode, which might obscure patterns and produce disingenuous data. In addition, unknown data can be a pattern in itself as it is likely that more successful films will have more data available, while small films with low revenue would be less well known and more difficult to find data about."
   ]
  },
  {
   "cell_type": "code",
   "execution_count": 939,
   "id": "3402b573-8dfb-4b88-89d1-4ad8aca39c46",
   "metadata": {},
   "outputs": [
    {
     "data": {
      "text/plain": [
       "title                    0\n",
       "year                     0\n",
       "duration                 0\n",
       "mpa                      0\n",
       "rating                   0\n",
       "votes                    0\n",
       "budget                   0\n",
       "gross_worldwide          0\n",
       "gross_us_canada          0\n",
       "opening_weekend_gross    0\n",
       "directors                0\n",
       "writers                  0\n",
       "stars                    0\n",
       "genres                   0\n",
       "countries_origin         0\n",
       "production_companies     0\n",
       "languages                0\n",
       "dtype: int64"
      ]
     },
     "execution_count": 939,
     "metadata": {},
     "output_type": "execute_result"
    }
   ],
   "source": [
    "df[\"directors\"] = df[\"directors\"].fillna(\"Unknown\")\n",
    "df[\"writers\"] = df[\"writers\"].fillna(\"Unknown\")\n",
    "df[\"stars\"] = df[\"stars\"].fillna(\"Unknown\")\n",
    "df[\"genres\"] = df[\"genres\"].fillna(\"Unknown\")\n",
    "df[\"countries_origin\"] = df[\"countries_origin\"].fillna(\"Unknown\")\n",
    "df[\"production_companies\"] = df[\"production_companies\"].fillna(\"Unknown\")\n",
    "df[\"languages\"] = df[\"languages\"].fillna(\"Unknown\")\n",
    "df.isna().sum(axis=0)"
   ]
  },
  {
   "cell_type": "markdown",
   "id": "8b3ae61c-5a87-48b8-931a-20d6184cd875",
   "metadata": {},
   "source": [
    "Let's check the categories in the 'mpa' column. Because we are focusing on box office, only the current film ratings will be used, which are G, PG, PG-13, R and NC-17."
   ]
  },
  {
   "cell_type": "code",
   "execution_count": 940,
   "id": "59697897-2189-4b2e-816e-aba5ee7ec65e",
   "metadata": {},
   "outputs": [
    {
     "data": {
      "text/plain": [
       "['PG',\n",
       " 'R',\n",
       " 'G',\n",
       " 'Not Rated',\n",
       " 'TV-MA',\n",
       " 'PG-13',\n",
       " 'X',\n",
       " 'Approved',\n",
       " 'GP',\n",
       " 'Unrated',\n",
       " 'TV-14',\n",
       " 'TV-PG',\n",
       " 'TV-G',\n",
       " '18+',\n",
       " 'TV-Y7',\n",
       " 'NC-17',\n",
       " '16+',\n",
       " 'M/PG',\n",
       " 'M',\n",
       " 'MA-17',\n",
       " '13+',\n",
       " 'TV-Y7-FV',\n",
       " 'TV-13']"
      ]
     },
     "execution_count": 940,
     "metadata": {},
     "output_type": "execute_result"
    }
   ],
   "source": [
    "df[\"mpa\"].unique().tolist()"
   ]
  },
  {
   "cell_type": "markdown",
   "id": "a01098ef-4b74-48e2-b7b8-6c751c9935f6",
   "metadata": {},
   "source": [
    "There are lots of ratings here that are not the 5 film ratings so we need to change these into the closest available rating."
   ]
  },
  {
   "cell_type": "code",
   "execution_count": 941,
   "id": "4354dafe-78b9-4de4-b648-04d626c9af7d",
   "metadata": {},
   "outputs": [
    {
     "data": {
      "text/plain": [
       "['PG', 'R', 'G', 'Not Rated', 'PG-13', 'NC-17']"
      ]
     },
     "execution_count": 941,
     "metadata": {},
     "output_type": "execute_result"
    }
   ],
   "source": [
    "ratings = {\"PG\": \"PG\", \"R\": \"R\", \"G\": \"G\", \"Not Rated\": \"Not Rated\", \"PG-13\": \"PG-13\", \"TV-MA\": \"R\", \"X\": \"NC-17\", \"Approved\": \"G\", \"GP\": \"PG\", \"Unrated\": \"Not Rated\", \"TV-14\": \"PG-13\", \"TV-PG\": \"PG\", \"TV-G\": \"G\", \"18+\": \"NC-17\", \"TV-Y7\": \"PG\", \"NC-17\": \"NC-17\", \"16+\": \"R\", \"M/PG\": \"PG\", \"M\": \"PG-13\", \"MA-17\": \"NC-17\", \"13+\": \"PG-13\", \"TV-Y7-FV\": \"PG\", \"TV-13\": \"PG-13\"}\n",
    "df[\"mpa\"] = df[\"mpa\"].map(ratings)\n",
    "df[\"mpa\"].unique().tolist()"
   ]
  },
  {
   "cell_type": "markdown",
   "id": "257faad1-6667-433f-8cf2-9a5e7a86f8b0",
   "metadata": {},
   "source": [
    "Now the 'mpa' column is organised into the correct categories ready for encoding.\n",
    "\n",
    "Through a combination of ignoring rows with missing values, imputing with a placeholder and imputing by approximation, we have managed to eliminate all missing values from the dataset. The next step is tidying up some remaining formats, specifically the values that are stored in list form- the columns from directors to languages.\n",
    "\n",
    "We want to change the formatting of the list values:\n",
    "1. to improve readability\n",
    "2. to make it easier to deal with later on"
   ]
  },
  {
   "cell_type": "code",
   "execution_count": 942,
   "id": "aed56791-7aee-43d3-8eff-cc7df306c33c",
   "metadata": {
    "scrolled": true
   },
   "outputs": [
    {
     "data": {
      "text/html": [
       "<div>\n",
       "<style scoped>\n",
       "    .dataframe tbody tr th:only-of-type {\n",
       "        vertical-align: middle;\n",
       "    }\n",
       "\n",
       "    .dataframe tbody tr th {\n",
       "        vertical-align: top;\n",
       "    }\n",
       "\n",
       "    .dataframe thead th {\n",
       "        text-align: right;\n",
       "    }\n",
       "</style>\n",
       "<table border=\"1\" class=\"dataframe\">\n",
       "  <thead>\n",
       "    <tr style=\"text-align: right;\">\n",
       "      <th></th>\n",
       "      <th>title</th>\n",
       "      <th>year</th>\n",
       "      <th>duration</th>\n",
       "      <th>mpa</th>\n",
       "      <th>rating</th>\n",
       "      <th>votes</th>\n",
       "      <th>budget</th>\n",
       "      <th>gross_worldwide</th>\n",
       "      <th>gross_us_canada</th>\n",
       "      <th>opening_weekend_gross</th>\n",
       "      <th>directors</th>\n",
       "      <th>writers</th>\n",
       "      <th>stars</th>\n",
       "      <th>genres</th>\n",
       "      <th>countries_origin</th>\n",
       "      <th>production_companies</th>\n",
       "      <th>languages</th>\n",
       "    </tr>\n",
       "  </thead>\n",
       "  <tbody>\n",
       "    <tr>\n",
       "      <th>0</th>\n",
       "      <td>Jaws</td>\n",
       "      <td>1975</td>\n",
       "      <td>124.0</td>\n",
       "      <td>PG</td>\n",
       "      <td>8.1</td>\n",
       "      <td>683000.0</td>\n",
       "      <td>7000000.0</td>\n",
       "      <td>477220580.0</td>\n",
       "      <td>266567580.0</td>\n",
       "      <td>7061513.0</td>\n",
       "      <td>Steven Spielberg</td>\n",
       "      <td>Peter Benchley, Carl Gottlieb</td>\n",
       "      <td>Roy Scheider, Robert Shaw, Richard Dreyfuss</td>\n",
       "      <td>Monster Horror, Sea Adventure, Survival, Adven...</td>\n",
       "      <td>United States</td>\n",
       "      <td>Zanuck/Brown Productions, Universal Pictures</td>\n",
       "      <td>English</td>\n",
       "    </tr>\n",
       "    <tr>\n",
       "      <th>1</th>\n",
       "      <td>The Rocky Horror Picture Show</td>\n",
       "      <td>1975</td>\n",
       "      <td>100.0</td>\n",
       "      <td>R</td>\n",
       "      <td>7.4</td>\n",
       "      <td>173000.0</td>\n",
       "      <td>1200000.0</td>\n",
       "      <td>115798478.0</td>\n",
       "      <td>112892319.0</td>\n",
       "      <td>-1.0</td>\n",
       "      <td>Jim Sharman</td>\n",
       "      <td>Richard O'Brien, Jim Sharman</td>\n",
       "      <td>Tim Curry, Susan Sarandon, Barry Bostwick</td>\n",
       "      <td>Dark Comedy, Raunchy Comedy, Rock Musical, Sup...</td>\n",
       "      <td>United Kingdom, United States</td>\n",
       "      <td>Twentieth Century Fox, Michael White Productions</td>\n",
       "      <td>English</td>\n",
       "    </tr>\n",
       "    <tr>\n",
       "      <th>2</th>\n",
       "      <td>One Flew Over the Cuckoo's Nest</td>\n",
       "      <td>1975</td>\n",
       "      <td>133.0</td>\n",
       "      <td>R</td>\n",
       "      <td>8.7</td>\n",
       "      <td>1100000.0</td>\n",
       "      <td>3000000.0</td>\n",
       "      <td>109115366.0</td>\n",
       "      <td>108981275.0</td>\n",
       "      <td>-1.0</td>\n",
       "      <td>Milos Forman</td>\n",
       "      <td>Lawrence Hauben, Bo Goldman, Ken Kesey</td>\n",
       "      <td>Jack Nicholson, Louise Fletcher, Michael Berryman</td>\n",
       "      <td>Medical Drama, Psychological Drama, Drama</td>\n",
       "      <td>United States</td>\n",
       "      <td>Fantasy Films, N.V. Zvaluw</td>\n",
       "      <td>English</td>\n",
       "    </tr>\n",
       "    <tr>\n",
       "      <th>3</th>\n",
       "      <td>Dog Day Afternoon</td>\n",
       "      <td>1975</td>\n",
       "      <td>125.0</td>\n",
       "      <td>R</td>\n",
       "      <td>8.0</td>\n",
       "      <td>279000.0</td>\n",
       "      <td>1800000.0</td>\n",
       "      <td>50002721.0</td>\n",
       "      <td>50000000.0</td>\n",
       "      <td>-1.0</td>\n",
       "      <td>Sidney Lumet</td>\n",
       "      <td>Frank Pierson, P.F. Kluge, Thomas Moore</td>\n",
       "      <td>Al Pacino, John Cazale, Penelope Allen</td>\n",
       "      <td>Heist, True Crime, Biography, Crime, Drama, Th...</td>\n",
       "      <td>United States</td>\n",
       "      <td>Warner Bros., Artists Entertainment Complex</td>\n",
       "      <td>English</td>\n",
       "    </tr>\n",
       "    <tr>\n",
       "      <th>4</th>\n",
       "      <td>Shampoo</td>\n",
       "      <td>1975</td>\n",
       "      <td>110.0</td>\n",
       "      <td>R</td>\n",
       "      <td>6.4</td>\n",
       "      <td>15000.0</td>\n",
       "      <td>4000000.0</td>\n",
       "      <td>49407734.0</td>\n",
       "      <td>49407734.0</td>\n",
       "      <td>-1.0</td>\n",
       "      <td>Hal Ashby</td>\n",
       "      <td>Robert Towne, Warren Beatty</td>\n",
       "      <td>Warren Beatty, Julie Christie, Goldie Hawn</td>\n",
       "      <td>Satire, Comedy, Drama</td>\n",
       "      <td>United States</td>\n",
       "      <td>Persky-Bright / Vista, Columbia Pictures, Rube...</td>\n",
       "      <td>English</td>\n",
       "    </tr>\n",
       "    <tr>\n",
       "      <th>...</th>\n",
       "      <td>...</td>\n",
       "      <td>...</td>\n",
       "      <td>...</td>\n",
       "      <td>...</td>\n",
       "      <td>...</td>\n",
       "      <td>...</td>\n",
       "      <td>...</td>\n",
       "      <td>...</td>\n",
       "      <td>...</td>\n",
       "      <td>...</td>\n",
       "      <td>...</td>\n",
       "      <td>...</td>\n",
       "      <td>...</td>\n",
       "      <td>...</td>\n",
       "      <td>...</td>\n",
       "      <td>...</td>\n",
       "      <td>...</td>\n",
       "    </tr>\n",
       "    <tr>\n",
       "      <th>33470</th>\n",
       "      <td>Jane B. for Agnes V.</td>\n",
       "      <td>1988</td>\n",
       "      <td>99.0</td>\n",
       "      <td>Not Rated</td>\n",
       "      <td>7.2</td>\n",
       "      <td>1600.0</td>\n",
       "      <td>-1.0</td>\n",
       "      <td>10825.0</td>\n",
       "      <td>-1.0</td>\n",
       "      <td>-1.0</td>\n",
       "      <td>Agnès Varda</td>\n",
       "      <td>Agnès Varda</td>\n",
       "      <td>Jane Birkin, Jean-Pierre Léaud, Philippe Léotard</td>\n",
       "      <td>Biography, Fantasy</td>\n",
       "      <td>France</td>\n",
       "      <td>Ciné-tamaris, La Sept Cinéma</td>\n",
       "      <td>French, English, Spanish, Italian</td>\n",
       "    </tr>\n",
       "    <tr>\n",
       "      <th>33486</th>\n",
       "      <td>Doraemon: Nobita's Version of Saiyuki</td>\n",
       "      <td>1988</td>\n",
       "      <td>90.0</td>\n",
       "      <td>Not Rated</td>\n",
       "      <td>6.9</td>\n",
       "      <td>514.0</td>\n",
       "      <td>-1.0</td>\n",
       "      <td>18045168.0</td>\n",
       "      <td>-1.0</td>\n",
       "      <td>-1.0</td>\n",
       "      <td>Tsutomu Shibayama</td>\n",
       "      <td>Fujio F. Fujiko</td>\n",
       "      <td>Nobuyo Ôyama, Noriko Ohara, Michiko Nomura</td>\n",
       "      <td>Anime, Adventure, Animation, Family, Fantasy, ...</td>\n",
       "      <td>Japan</td>\n",
       "      <td>Shin Ei Animation, Shogakukan, TV Asahi</td>\n",
       "      <td>Japanese</td>\n",
       "    </tr>\n",
       "    <tr>\n",
       "      <th>33502</th>\n",
       "      <td>The Legend of the Holy Drinker</td>\n",
       "      <td>1988</td>\n",
       "      <td>128.0</td>\n",
       "      <td>Not Rated</td>\n",
       "      <td>7.1</td>\n",
       "      <td>2300.0</td>\n",
       "      <td>-1.0</td>\n",
       "      <td>6384.0</td>\n",
       "      <td>-1.0</td>\n",
       "      <td>-1.0</td>\n",
       "      <td>Ermanno Olmi</td>\n",
       "      <td>Ermanno Olmi, Tullio Kezich, Joseph Roth</td>\n",
       "      <td>Rutger Hauer, Anthony Quayle, Sandrine Dumas</td>\n",
       "      <td>Drama</td>\n",
       "      <td>Italy, France</td>\n",
       "      <td>Cecchi Gori Group Tiger Cinematografica, Aura ...</td>\n",
       "      <td>Italian, French, English</td>\n",
       "    </tr>\n",
       "    <tr>\n",
       "      <th>33535</th>\n",
       "      <td>Dayavan</td>\n",
       "      <td>1988</td>\n",
       "      <td>173.0</td>\n",
       "      <td>Not Rated</td>\n",
       "      <td>6.4</td>\n",
       "      <td>669.0</td>\n",
       "      <td>-1.0</td>\n",
       "      <td>5336964.0</td>\n",
       "      <td>-1.0</td>\n",
       "      <td>-1.0</td>\n",
       "      <td>Feroz Khan</td>\n",
       "      <td>Parvez Mehdi, Aziz Quaisi</td>\n",
       "      <td>Vinod Khanna, Feroz Khan, Amala Akkineni</td>\n",
       "      <td>Action, Crime, Drama, Romance</td>\n",
       "      <td>India</td>\n",
       "      <td>F.K. International</td>\n",
       "      <td>Hindi</td>\n",
       "    </tr>\n",
       "    <tr>\n",
       "      <th>33569</th>\n",
       "      <td>A Few Days with Me</td>\n",
       "      <td>1988</td>\n",
       "      <td>131.0</td>\n",
       "      <td>PG-13</td>\n",
       "      <td>7.0</td>\n",
       "      <td>1300.0</td>\n",
       "      <td>-1.0</td>\n",
       "      <td>335.0</td>\n",
       "      <td>-1.0</td>\n",
       "      <td>-1.0</td>\n",
       "      <td>Claude Sautet</td>\n",
       "      <td>Claude Sautet, Jacques Fieschi, Jérôme Tonnerre</td>\n",
       "      <td>Daniel Auteuil, Sandrine Bonnaire, Jean-Pierre...</td>\n",
       "      <td>Comedy, Drama, Romance</td>\n",
       "      <td>France</td>\n",
       "      <td>Sara Films, Cinéa, Films A2</td>\n",
       "      <td>French</td>\n",
       "    </tr>\n",
       "  </tbody>\n",
       "</table>\n",
       "<p>18222 rows × 17 columns</p>\n",
       "</div>"
      ],
      "text/plain": [
       "                                       title  year  duration        mpa  \\\n",
       "0                                       Jaws  1975     124.0         PG   \n",
       "1              The Rocky Horror Picture Show  1975     100.0          R   \n",
       "2            One Flew Over the Cuckoo's Nest  1975     133.0          R   \n",
       "3                          Dog Day Afternoon  1975     125.0          R   \n",
       "4                                    Shampoo  1975     110.0          R   \n",
       "...                                      ...   ...       ...        ...   \n",
       "33470                   Jane B. for Agnes V.  1988      99.0  Not Rated   \n",
       "33486  Doraemon: Nobita's Version of Saiyuki  1988      90.0  Not Rated   \n",
       "33502         The Legend of the Holy Drinker  1988     128.0  Not Rated   \n",
       "33535                                Dayavan  1988     173.0  Not Rated   \n",
       "33569                     A Few Days with Me  1988     131.0      PG-13   \n",
       "\n",
       "       rating      votes     budget  gross_worldwide  gross_us_canada  \\\n",
       "0         8.1   683000.0  7000000.0      477220580.0      266567580.0   \n",
       "1         7.4   173000.0  1200000.0      115798478.0      112892319.0   \n",
       "2         8.7  1100000.0  3000000.0      109115366.0      108981275.0   \n",
       "3         8.0   279000.0  1800000.0       50002721.0       50000000.0   \n",
       "4         6.4    15000.0  4000000.0       49407734.0       49407734.0   \n",
       "...       ...        ...        ...              ...              ...   \n",
       "33470     7.2     1600.0       -1.0          10825.0             -1.0   \n",
       "33486     6.9      514.0       -1.0       18045168.0             -1.0   \n",
       "33502     7.1     2300.0       -1.0           6384.0             -1.0   \n",
       "33535     6.4      669.0       -1.0        5336964.0             -1.0   \n",
       "33569     7.0     1300.0       -1.0            335.0             -1.0   \n",
       "\n",
       "       opening_weekend_gross          directors  \\\n",
       "0                  7061513.0   Steven Spielberg   \n",
       "1                       -1.0        Jim Sharman   \n",
       "2                       -1.0       Milos Forman   \n",
       "3                       -1.0       Sidney Lumet   \n",
       "4                       -1.0          Hal Ashby   \n",
       "...                      ...                ...   \n",
       "33470                   -1.0        Agnès Varda   \n",
       "33486                   -1.0  Tsutomu Shibayama   \n",
       "33502                   -1.0       Ermanno Olmi   \n",
       "33535                   -1.0         Feroz Khan   \n",
       "33569                   -1.0      Claude Sautet   \n",
       "\n",
       "                                               writers  \\\n",
       "0                        Peter Benchley, Carl Gottlieb   \n",
       "1                         Richard O'Brien, Jim Sharman   \n",
       "2               Lawrence Hauben, Bo Goldman, Ken Kesey   \n",
       "3              Frank Pierson, P.F. Kluge, Thomas Moore   \n",
       "4                          Robert Towne, Warren Beatty   \n",
       "...                                                ...   \n",
       "33470                                      Agnès Varda   \n",
       "33486                                  Fujio F. Fujiko   \n",
       "33502         Ermanno Olmi, Tullio Kezich, Joseph Roth   \n",
       "33535                        Parvez Mehdi, Aziz Quaisi   \n",
       "33569  Claude Sautet, Jacques Fieschi, Jérôme Tonnerre   \n",
       "\n",
       "                                                   stars  \\\n",
       "0            Roy Scheider, Robert Shaw, Richard Dreyfuss   \n",
       "1              Tim Curry, Susan Sarandon, Barry Bostwick   \n",
       "2      Jack Nicholson, Louise Fletcher, Michael Berryman   \n",
       "3                 Al Pacino, John Cazale, Penelope Allen   \n",
       "4             Warren Beatty, Julie Christie, Goldie Hawn   \n",
       "...                                                  ...   \n",
       "33470   Jane Birkin, Jean-Pierre Léaud, Philippe Léotard   \n",
       "33486         Nobuyo Ôyama, Noriko Ohara, Michiko Nomura   \n",
       "33502       Rutger Hauer, Anthony Quayle, Sandrine Dumas   \n",
       "33535           Vinod Khanna, Feroz Khan, Amala Akkineni   \n",
       "33569  Daniel Auteuil, Sandrine Bonnaire, Jean-Pierre...   \n",
       "\n",
       "                                                  genres  \\\n",
       "0      Monster Horror, Sea Adventure, Survival, Adven...   \n",
       "1      Dark Comedy, Raunchy Comedy, Rock Musical, Sup...   \n",
       "2              Medical Drama, Psychological Drama, Drama   \n",
       "3      Heist, True Crime, Biography, Crime, Drama, Th...   \n",
       "4                                  Satire, Comedy, Drama   \n",
       "...                                                  ...   \n",
       "33470                                 Biography, Fantasy   \n",
       "33486  Anime, Adventure, Animation, Family, Fantasy, ...   \n",
       "33502                                              Drama   \n",
       "33535                      Action, Crime, Drama, Romance   \n",
       "33569                             Comedy, Drama, Romance   \n",
       "\n",
       "                    countries_origin  \\\n",
       "0                      United States   \n",
       "1      United Kingdom, United States   \n",
       "2                      United States   \n",
       "3                      United States   \n",
       "4                      United States   \n",
       "...                              ...   \n",
       "33470                         France   \n",
       "33486                          Japan   \n",
       "33502                  Italy, France   \n",
       "33535                          India   \n",
       "33569                         France   \n",
       "\n",
       "                                    production_companies  \\\n",
       "0           Zanuck/Brown Productions, Universal Pictures   \n",
       "1       Twentieth Century Fox, Michael White Productions   \n",
       "2                             Fantasy Films, N.V. Zvaluw   \n",
       "3            Warner Bros., Artists Entertainment Complex   \n",
       "4      Persky-Bright / Vista, Columbia Pictures, Rube...   \n",
       "...                                                  ...   \n",
       "33470                       Ciné-tamaris, La Sept Cinéma   \n",
       "33486            Shin Ei Animation, Shogakukan, TV Asahi   \n",
       "33502  Cecchi Gori Group Tiger Cinematografica, Aura ...   \n",
       "33535                                 F.K. International   \n",
       "33569                        Sara Films, Cinéa, Films A2   \n",
       "\n",
       "                               languages  \n",
       "0                                English  \n",
       "1                                English  \n",
       "2                                English  \n",
       "3                                English  \n",
       "4                                English  \n",
       "...                                  ...  \n",
       "33470  French, English, Spanish, Italian  \n",
       "33486                           Japanese  \n",
       "33502           Italian, French, English  \n",
       "33535                              Hindi  \n",
       "33569                             French  \n",
       "\n",
       "[18222 rows x 17 columns]"
      ]
     },
     "execution_count": 942,
     "metadata": {},
     "output_type": "execute_result"
    }
   ],
   "source": [
    "df.loc[:,\"directors\"] = df[\"directors\"].str.strip(\"[]\").str.replace(r\"(^|[^a-zA-Z])['\\\"]|['\\\"]([^a-zA-Z]|$)\", r\"\\1\\2\", regex=True).copy()\n",
    "df.loc[:,\"writers\"] = df[\"writers\"].str.strip(\"[]\").str.replace(r\"(^|[^a-zA-Z])['\\\"]|['\\\"]([^a-zA-Z]|$)\", r\"\\1\\2\", regex=True).copy()\n",
    "df.loc[:,\"stars\"] = df[\"stars\"].str.strip(\"[]\").str.replace(r\"(^|[^a-zA-Z])['\\\"]|['\\\"]([^a-zA-Z]|$)\", r\"\\1\\2\", regex=True).copy()\n",
    "df.loc[:,\"genres\"] = df[\"genres\"].str.strip(\"[]\").str.replace(r\"(^|[^a-zA-Z])['\\\"]|['\\\"]([^a-zA-Z]|$)\", r\"\\1\\2\", regex=True).copy()\n",
    "df.loc[:,\"countries_origin\"] = df[\"countries_origin\"].str.strip(\"[]\").str.replace(r\"(^|[^a-zA-Z])['\\\"]|['\\\"]([^a-zA-Z]|$)\", r\"\\1\\2\", regex=True).copy()\n",
    "df.loc[:,\"production_companies\"] = df[\"production_companies\"].str.strip(\"[]\").str.replace(r\"(^|[^a-zA-Z])['\\\"]|['\\\"]([^a-zA-Z]|$)\", r\"\\1\\2\", regex=True).copy()\n",
    "df.loc[:,\"languages\"] = df[\"languages\"].str.strip(\"[]\").str.replace(r\"(^|[^a-zA-Z])['\\\"]|['\\\"]([^a-zA-Z]|$)\", r\"\\1\\2\", regex=True).copy()\n",
    "df"
   ]
  },
  {
   "cell_type": "markdown",
   "id": "f2f4d83c-8ba5-41af-a597-0ae877c2b8af",
   "metadata": {},
   "source": [
    "The last step of this section is to deal with the monetary values. The figures in the dataset are not adjusted for inflation. While it might be possible to leave it this way for the model to find as a pattern, there is an easy method to remove this potential bias. Consumer Price Index (CPI) measures the change in average prices over time, which works as a continuous representation of inflation rate. By applying the average CPI value of the year that each film came out, we can essentially eliminate the chance of a bias due to inflation and make the films fairly comparable across the whole timespan.\n",
    "\n",
    "The dataset (U.S. Bureau of Labor Statistics, 2025) was originally stored as an XLSX file. It was converted to CSV and renamed upon saving. There are some unimportant rows at the top of the dataset so they can be removed. Also let's remove the 2025 row as there are no films in the main dataset from 2025."
   ]
  },
  {
   "cell_type": "code",
   "execution_count": 943,
   "id": "7420479e-25bc-4048-a980-7ca7ac10bf54",
   "metadata": {
    "scrolled": true
   },
   "outputs": [
    {
     "data": {
      "text/html": [
       "<div>\n",
       "<style scoped>\n",
       "    .dataframe tbody tr th:only-of-type {\n",
       "        vertical-align: middle;\n",
       "    }\n",
       "\n",
       "    .dataframe tbody tr th {\n",
       "        vertical-align: top;\n",
       "    }\n",
       "\n",
       "    .dataframe thead th {\n",
       "        text-align: right;\n",
       "    }\n",
       "</style>\n",
       "<table border=\"1\" class=\"dataframe\">\n",
       "  <thead>\n",
       "    <tr style=\"text-align: right;\">\n",
       "      <th></th>\n",
       "      <th>Unnamed: 0</th>\n",
       "      <th>Historical Consumer Price Index for All Urban Consumers (CPI-U): U.S. city average, all items, index averages</th>\n",
       "      <th>Unnamed: 2</th>\n",
       "      <th>Unnamed: 3</th>\n",
       "      <th>Unnamed: 4</th>\n",
       "      <th>Unnamed: 5</th>\n",
       "      <th>Unnamed: 6</th>\n",
       "    </tr>\n",
       "  </thead>\n",
       "  <tbody>\n",
       "    <tr>\n",
       "      <th>5</th>\n",
       "      <td>0</td>\n",
       "      <td>1913</td>\n",
       "      <td>–</td>\n",
       "      <td>–</td>\n",
       "      <td>9.9</td>\n",
       "      <td>–</td>\n",
       "      <td>–</td>\n",
       "    </tr>\n",
       "    <tr>\n",
       "      <th>6</th>\n",
       "      <td>0</td>\n",
       "      <td>1914</td>\n",
       "      <td>–</td>\n",
       "      <td>–</td>\n",
       "      <td>10</td>\n",
       "      <td>1</td>\n",
       "      <td>1</td>\n",
       "    </tr>\n",
       "    <tr>\n",
       "      <th>7</th>\n",
       "      <td>0</td>\n",
       "      <td>1915</td>\n",
       "      <td>–</td>\n",
       "      <td>–</td>\n",
       "      <td>10.1</td>\n",
       "      <td>2</td>\n",
       "      <td>1</td>\n",
       "    </tr>\n",
       "    <tr>\n",
       "      <th>8</th>\n",
       "      <td>0</td>\n",
       "      <td>1916</td>\n",
       "      <td>–</td>\n",
       "      <td>–</td>\n",
       "      <td>10.9</td>\n",
       "      <td>12.6</td>\n",
       "      <td>7.9</td>\n",
       "    </tr>\n",
       "    <tr>\n",
       "      <th>9</th>\n",
       "      <td>0</td>\n",
       "      <td>1917</td>\n",
       "      <td>–</td>\n",
       "      <td>–</td>\n",
       "      <td>12.8</td>\n",
       "      <td>18.1</td>\n",
       "      <td>17.4</td>\n",
       "    </tr>\n",
       "    <tr>\n",
       "      <th>...</th>\n",
       "      <td>...</td>\n",
       "      <td>...</td>\n",
       "      <td>...</td>\n",
       "      <td>...</td>\n",
       "      <td>...</td>\n",
       "      <td>...</td>\n",
       "      <td>...</td>\n",
       "    </tr>\n",
       "    <tr>\n",
       "      <th>112</th>\n",
       "      <td>0</td>\n",
       "      <td>2020</td>\n",
       "      <td>257.557</td>\n",
       "      <td>260.065</td>\n",
       "      <td>258.811</td>\n",
       "      <td>1.4</td>\n",
       "      <td>1.2</td>\n",
       "    </tr>\n",
       "    <tr>\n",
       "      <th>113</th>\n",
       "      <td>0</td>\n",
       "      <td>2021</td>\n",
       "      <td>266.236</td>\n",
       "      <td>275.703</td>\n",
       "      <td>270.97</td>\n",
       "      <td>7</td>\n",
       "      <td>4.7</td>\n",
       "    </tr>\n",
       "    <tr>\n",
       "      <th>114</th>\n",
       "      <td>0</td>\n",
       "      <td>2022</td>\n",
       "      <td>288.347</td>\n",
       "      <td>296.963</td>\n",
       "      <td>292.655</td>\n",
       "      <td>6.5</td>\n",
       "      <td>8</td>\n",
       "    </tr>\n",
       "    <tr>\n",
       "      <th>115</th>\n",
       "      <td>0</td>\n",
       "      <td>2023</td>\n",
       "      <td>302.408</td>\n",
       "      <td>306.996</td>\n",
       "      <td>304.702</td>\n",
       "      <td>3.4</td>\n",
       "      <td>4.1</td>\n",
       "    </tr>\n",
       "    <tr>\n",
       "      <th>116</th>\n",
       "      <td>0</td>\n",
       "      <td>2024</td>\n",
       "      <td>312.145</td>\n",
       "      <td>315.233</td>\n",
       "      <td>313.689</td>\n",
       "      <td>2.9</td>\n",
       "      <td>2.9</td>\n",
       "    </tr>\n",
       "  </tbody>\n",
       "</table>\n",
       "<p>112 rows × 7 columns</p>\n",
       "</div>"
      ],
      "text/plain": [
       "    Unnamed: 0  \\\n",
       "5            0   \n",
       "6            0   \n",
       "7            0   \n",
       "8            0   \n",
       "9            0   \n",
       "..         ...   \n",
       "112          0   \n",
       "113          0   \n",
       "114          0   \n",
       "115          0   \n",
       "116          0   \n",
       "\n",
       "    Historical Consumer Price Index for All Urban Consumers (CPI-U): U.S. city average, all items, index averages  \\\n",
       "5                                                 1913                                                              \n",
       "6                                                 1914                                                              \n",
       "7                                                 1915                                                              \n",
       "8                                                 1916                                                              \n",
       "9                                                 1917                                                              \n",
       "..                                                 ...                                                              \n",
       "112                                               2020                                                              \n",
       "113                                               2021                                                              \n",
       "114                                               2022                                                              \n",
       "115                                               2023                                                              \n",
       "116                                               2024                                                              \n",
       "\n",
       "    Unnamed: 2 Unnamed: 3 Unnamed: 4 Unnamed: 5 Unnamed: 6  \n",
       "5            –          –        9.9          –          –  \n",
       "6            –          –         10          1          1  \n",
       "7            –          –       10.1          2          1  \n",
       "8            –          –       10.9       12.6        7.9  \n",
       "9            –          –       12.8       18.1       17.4  \n",
       "..         ...        ...        ...        ...        ...  \n",
       "112    257.557    260.065    258.811        1.4        1.2  \n",
       "113    266.236    275.703     270.97          7        4.7  \n",
       "114    288.347    296.963    292.655        6.5          8  \n",
       "115    302.408    306.996    304.702        3.4        4.1  \n",
       "116    312.145    315.233    313.689        2.9        2.9  \n",
       "\n",
       "[112 rows x 7 columns]"
      ]
     },
     "execution_count": 943,
     "metadata": {},
     "output_type": "execute_result"
    }
   ],
   "source": [
    "cpi = pd.read_csv(\"us_cpi.csv\")\n",
    "cpi = cpi.iloc[5:]\n",
    "cpi = cpi[:-1]\n",
    "cpi"
   ]
  },
  {
   "cell_type": "markdown",
   "id": "4c2c26e9-6635-407b-9697-d30e936c02dd",
   "metadata": {},
   "source": [
    "The relevant values here are the years and the values in the column currently named 'Unnamed: 4'. Let's rename those columns to make it clearer. We don't need to rename the other columns because we won't be using them."
   ]
  },
  {
   "cell_type": "code",
   "execution_count": 944,
   "id": "c5fc5a77-9b29-49ba-8b37-a3c2f8ba0d0d",
   "metadata": {},
   "outputs": [
    {
     "data": {
      "text/plain": [
       "['Unnamed: 0',\n",
       " 'year',\n",
       " 'Unnamed: 2',\n",
       " 'Unnamed: 3',\n",
       " 'cpi_value',\n",
       " 'Unnamed: 5',\n",
       " 'Unnamed: 6']"
      ]
     },
     "execution_count": 944,
     "metadata": {},
     "output_type": "execute_result"
    }
   ],
   "source": [
    "year = cpi.columns[1]\n",
    "cpi_value = cpi.columns[4]\n",
    "cpi = cpi.rename(columns={year: \"year\", cpi_value: \"cpi_value\"})\n",
    "cpi.columns.tolist()"
   ]
  },
  {
   "cell_type": "markdown",
   "id": "2ab8d3e3-8e77-4a14-9e47-518f8aa9a9c8",
   "metadata": {},
   "source": [
    "We also need to convert the values into int and float respectively so that it can merge properly with the main dataset."
   ]
  },
  {
   "cell_type": "code",
   "execution_count": 945,
   "id": "307575d4-69d9-4b61-82db-c424ec6615bf",
   "metadata": {},
   "outputs": [],
   "source": [
    "cpi[\"year\"] = cpi[\"year\"].astype(int)\n",
    "cpi[\"cpi_value\"] = cpi[\"cpi_value\"].astype(float)"
   ]
  },
  {
   "cell_type": "markdown",
   "id": "4eb46010-fa36-4e82-b45c-e27139709b88",
   "metadata": {},
   "source": [
    "Now we can merge the datasets so that all the data for each year is in one place. Budget, gross_worldwide, gross_us_canada and opening_weekend_gross can then be adjusted according to the year's CPI. To calculate the adjusted values, we first multiply by the latest CPI value (in this case, the CPI value for 2024) and then divide by the CPI of the year the film was released. We will ignore any -1 values to keep a constant value denoting missing data, otherwise the -1 would also be adjusted for inflation, which is not what we want. "
   ]
  },
  {
   "cell_type": "code",
   "execution_count": 946,
   "id": "44fe4a79-2745-456d-871f-94b01b843126",
   "metadata": {
    "scrolled": true
   },
   "outputs": [
    {
     "data": {
      "text/html": [
       "<div>\n",
       "<style scoped>\n",
       "    .dataframe tbody tr th:only-of-type {\n",
       "        vertical-align: middle;\n",
       "    }\n",
       "\n",
       "    .dataframe tbody tr th {\n",
       "        vertical-align: top;\n",
       "    }\n",
       "\n",
       "    .dataframe thead th {\n",
       "        text-align: right;\n",
       "    }\n",
       "</style>\n",
       "<table border=\"1\" class=\"dataframe\">\n",
       "  <thead>\n",
       "    <tr style=\"text-align: right;\">\n",
       "      <th></th>\n",
       "      <th>title</th>\n",
       "      <th>year</th>\n",
       "      <th>duration</th>\n",
       "      <th>mpa</th>\n",
       "      <th>rating</th>\n",
       "      <th>votes</th>\n",
       "      <th>budget</th>\n",
       "      <th>gross_worldwide</th>\n",
       "      <th>gross_us_canada</th>\n",
       "      <th>opening_weekend_gross</th>\n",
       "      <th>directors</th>\n",
       "      <th>writers</th>\n",
       "      <th>stars</th>\n",
       "      <th>genres</th>\n",
       "      <th>countries_origin</th>\n",
       "      <th>production_companies</th>\n",
       "      <th>languages</th>\n",
       "      <th>cpi_value</th>\n",
       "    </tr>\n",
       "  </thead>\n",
       "  <tbody>\n",
       "    <tr>\n",
       "      <th>0</th>\n",
       "      <td>Jaws</td>\n",
       "      <td>1975</td>\n",
       "      <td>124.0</td>\n",
       "      <td>PG</td>\n",
       "      <td>8.1</td>\n",
       "      <td>683000.0</td>\n",
       "      <td>7000000.0</td>\n",
       "      <td>477220580.0</td>\n",
       "      <td>266567580.0</td>\n",
       "      <td>7061513.0</td>\n",
       "      <td>Steven Spielberg</td>\n",
       "      <td>Peter Benchley, Carl Gottlieb</td>\n",
       "      <td>Roy Scheider, Robert Shaw, Richard Dreyfuss</td>\n",
       "      <td>Monster Horror, Sea Adventure, Survival, Adven...</td>\n",
       "      <td>United States</td>\n",
       "      <td>Zanuck/Brown Productions, Universal Pictures</td>\n",
       "      <td>English</td>\n",
       "      <td>53.8</td>\n",
       "    </tr>\n",
       "    <tr>\n",
       "      <th>1</th>\n",
       "      <td>The Rocky Horror Picture Show</td>\n",
       "      <td>1975</td>\n",
       "      <td>100.0</td>\n",
       "      <td>R</td>\n",
       "      <td>7.4</td>\n",
       "      <td>173000.0</td>\n",
       "      <td>1200000.0</td>\n",
       "      <td>115798478.0</td>\n",
       "      <td>112892319.0</td>\n",
       "      <td>-1.0</td>\n",
       "      <td>Jim Sharman</td>\n",
       "      <td>Richard O'Brien, Jim Sharman</td>\n",
       "      <td>Tim Curry, Susan Sarandon, Barry Bostwick</td>\n",
       "      <td>Dark Comedy, Raunchy Comedy, Rock Musical, Sup...</td>\n",
       "      <td>United Kingdom, United States</td>\n",
       "      <td>Twentieth Century Fox, Michael White Productions</td>\n",
       "      <td>English</td>\n",
       "      <td>53.8</td>\n",
       "    </tr>\n",
       "    <tr>\n",
       "      <th>2</th>\n",
       "      <td>One Flew Over the Cuckoo's Nest</td>\n",
       "      <td>1975</td>\n",
       "      <td>133.0</td>\n",
       "      <td>R</td>\n",
       "      <td>8.7</td>\n",
       "      <td>1100000.0</td>\n",
       "      <td>3000000.0</td>\n",
       "      <td>109115366.0</td>\n",
       "      <td>108981275.0</td>\n",
       "      <td>-1.0</td>\n",
       "      <td>Milos Forman</td>\n",
       "      <td>Lawrence Hauben, Bo Goldman, Ken Kesey</td>\n",
       "      <td>Jack Nicholson, Louise Fletcher, Michael Berryman</td>\n",
       "      <td>Medical Drama, Psychological Drama, Drama</td>\n",
       "      <td>United States</td>\n",
       "      <td>Fantasy Films, N.V. Zvaluw</td>\n",
       "      <td>English</td>\n",
       "      <td>53.8</td>\n",
       "    </tr>\n",
       "    <tr>\n",
       "      <th>3</th>\n",
       "      <td>Dog Day Afternoon</td>\n",
       "      <td>1975</td>\n",
       "      <td>125.0</td>\n",
       "      <td>R</td>\n",
       "      <td>8.0</td>\n",
       "      <td>279000.0</td>\n",
       "      <td>1800000.0</td>\n",
       "      <td>50002721.0</td>\n",
       "      <td>50000000.0</td>\n",
       "      <td>-1.0</td>\n",
       "      <td>Sidney Lumet</td>\n",
       "      <td>Frank Pierson, P.F. Kluge, Thomas Moore</td>\n",
       "      <td>Al Pacino, John Cazale, Penelope Allen</td>\n",
       "      <td>Heist, True Crime, Biography, Crime, Drama, Th...</td>\n",
       "      <td>United States</td>\n",
       "      <td>Warner Bros., Artists Entertainment Complex</td>\n",
       "      <td>English</td>\n",
       "      <td>53.8</td>\n",
       "    </tr>\n",
       "    <tr>\n",
       "      <th>4</th>\n",
       "      <td>Shampoo</td>\n",
       "      <td>1975</td>\n",
       "      <td>110.0</td>\n",
       "      <td>R</td>\n",
       "      <td>6.4</td>\n",
       "      <td>15000.0</td>\n",
       "      <td>4000000.0</td>\n",
       "      <td>49407734.0</td>\n",
       "      <td>49407734.0</td>\n",
       "      <td>-1.0</td>\n",
       "      <td>Hal Ashby</td>\n",
       "      <td>Robert Towne, Warren Beatty</td>\n",
       "      <td>Warren Beatty, Julie Christie, Goldie Hawn</td>\n",
       "      <td>Satire, Comedy, Drama</td>\n",
       "      <td>United States</td>\n",
       "      <td>Persky-Bright / Vista, Columbia Pictures, Rube...</td>\n",
       "      <td>English</td>\n",
       "      <td>53.8</td>\n",
       "    </tr>\n",
       "    <tr>\n",
       "      <th>...</th>\n",
       "      <td>...</td>\n",
       "      <td>...</td>\n",
       "      <td>...</td>\n",
       "      <td>...</td>\n",
       "      <td>...</td>\n",
       "      <td>...</td>\n",
       "      <td>...</td>\n",
       "      <td>...</td>\n",
       "      <td>...</td>\n",
       "      <td>...</td>\n",
       "      <td>...</td>\n",
       "      <td>...</td>\n",
       "      <td>...</td>\n",
       "      <td>...</td>\n",
       "      <td>...</td>\n",
       "      <td>...</td>\n",
       "      <td>...</td>\n",
       "      <td>...</td>\n",
       "    </tr>\n",
       "    <tr>\n",
       "      <th>18217</th>\n",
       "      <td>Jane B. for Agnes V.</td>\n",
       "      <td>1988</td>\n",
       "      <td>99.0</td>\n",
       "      <td>Not Rated</td>\n",
       "      <td>7.2</td>\n",
       "      <td>1600.0</td>\n",
       "      <td>-1.0</td>\n",
       "      <td>10825.0</td>\n",
       "      <td>-1.0</td>\n",
       "      <td>-1.0</td>\n",
       "      <td>Agnès Varda</td>\n",
       "      <td>Agnès Varda</td>\n",
       "      <td>Jane Birkin, Jean-Pierre Léaud, Philippe Léotard</td>\n",
       "      <td>Biography, Fantasy</td>\n",
       "      <td>France</td>\n",
       "      <td>Ciné-tamaris, La Sept Cinéma</td>\n",
       "      <td>French, English, Spanish, Italian</td>\n",
       "      <td>118.3</td>\n",
       "    </tr>\n",
       "    <tr>\n",
       "      <th>18218</th>\n",
       "      <td>Doraemon: Nobita's Version of Saiyuki</td>\n",
       "      <td>1988</td>\n",
       "      <td>90.0</td>\n",
       "      <td>Not Rated</td>\n",
       "      <td>6.9</td>\n",
       "      <td>514.0</td>\n",
       "      <td>-1.0</td>\n",
       "      <td>18045168.0</td>\n",
       "      <td>-1.0</td>\n",
       "      <td>-1.0</td>\n",
       "      <td>Tsutomu Shibayama</td>\n",
       "      <td>Fujio F. Fujiko</td>\n",
       "      <td>Nobuyo Ôyama, Noriko Ohara, Michiko Nomura</td>\n",
       "      <td>Anime, Adventure, Animation, Family, Fantasy, ...</td>\n",
       "      <td>Japan</td>\n",
       "      <td>Shin Ei Animation, Shogakukan, TV Asahi</td>\n",
       "      <td>Japanese</td>\n",
       "      <td>118.3</td>\n",
       "    </tr>\n",
       "    <tr>\n",
       "      <th>18219</th>\n",
       "      <td>The Legend of the Holy Drinker</td>\n",
       "      <td>1988</td>\n",
       "      <td>128.0</td>\n",
       "      <td>Not Rated</td>\n",
       "      <td>7.1</td>\n",
       "      <td>2300.0</td>\n",
       "      <td>-1.0</td>\n",
       "      <td>6384.0</td>\n",
       "      <td>-1.0</td>\n",
       "      <td>-1.0</td>\n",
       "      <td>Ermanno Olmi</td>\n",
       "      <td>Ermanno Olmi, Tullio Kezich, Joseph Roth</td>\n",
       "      <td>Rutger Hauer, Anthony Quayle, Sandrine Dumas</td>\n",
       "      <td>Drama</td>\n",
       "      <td>Italy, France</td>\n",
       "      <td>Cecchi Gori Group Tiger Cinematografica, Aura ...</td>\n",
       "      <td>Italian, French, English</td>\n",
       "      <td>118.3</td>\n",
       "    </tr>\n",
       "    <tr>\n",
       "      <th>18220</th>\n",
       "      <td>Dayavan</td>\n",
       "      <td>1988</td>\n",
       "      <td>173.0</td>\n",
       "      <td>Not Rated</td>\n",
       "      <td>6.4</td>\n",
       "      <td>669.0</td>\n",
       "      <td>-1.0</td>\n",
       "      <td>5336964.0</td>\n",
       "      <td>-1.0</td>\n",
       "      <td>-1.0</td>\n",
       "      <td>Feroz Khan</td>\n",
       "      <td>Parvez Mehdi, Aziz Quaisi</td>\n",
       "      <td>Vinod Khanna, Feroz Khan, Amala Akkineni</td>\n",
       "      <td>Action, Crime, Drama, Romance</td>\n",
       "      <td>India</td>\n",
       "      <td>F.K. International</td>\n",
       "      <td>Hindi</td>\n",
       "      <td>118.3</td>\n",
       "    </tr>\n",
       "    <tr>\n",
       "      <th>18221</th>\n",
       "      <td>A Few Days with Me</td>\n",
       "      <td>1988</td>\n",
       "      <td>131.0</td>\n",
       "      <td>PG-13</td>\n",
       "      <td>7.0</td>\n",
       "      <td>1300.0</td>\n",
       "      <td>-1.0</td>\n",
       "      <td>335.0</td>\n",
       "      <td>-1.0</td>\n",
       "      <td>-1.0</td>\n",
       "      <td>Claude Sautet</td>\n",
       "      <td>Claude Sautet, Jacques Fieschi, Jérôme Tonnerre</td>\n",
       "      <td>Daniel Auteuil, Sandrine Bonnaire, Jean-Pierre...</td>\n",
       "      <td>Comedy, Drama, Romance</td>\n",
       "      <td>France</td>\n",
       "      <td>Sara Films, Cinéa, Films A2</td>\n",
       "      <td>French</td>\n",
       "      <td>118.3</td>\n",
       "    </tr>\n",
       "  </tbody>\n",
       "</table>\n",
       "<p>18222 rows × 18 columns</p>\n",
       "</div>"
      ],
      "text/plain": [
       "                                       title  year  duration        mpa  \\\n",
       "0                                       Jaws  1975     124.0         PG   \n",
       "1              The Rocky Horror Picture Show  1975     100.0          R   \n",
       "2            One Flew Over the Cuckoo's Nest  1975     133.0          R   \n",
       "3                          Dog Day Afternoon  1975     125.0          R   \n",
       "4                                    Shampoo  1975     110.0          R   \n",
       "...                                      ...   ...       ...        ...   \n",
       "18217                   Jane B. for Agnes V.  1988      99.0  Not Rated   \n",
       "18218  Doraemon: Nobita's Version of Saiyuki  1988      90.0  Not Rated   \n",
       "18219         The Legend of the Holy Drinker  1988     128.0  Not Rated   \n",
       "18220                                Dayavan  1988     173.0  Not Rated   \n",
       "18221                     A Few Days with Me  1988     131.0      PG-13   \n",
       "\n",
       "       rating      votes     budget  gross_worldwide  gross_us_canada  \\\n",
       "0         8.1   683000.0  7000000.0      477220580.0      266567580.0   \n",
       "1         7.4   173000.0  1200000.0      115798478.0      112892319.0   \n",
       "2         8.7  1100000.0  3000000.0      109115366.0      108981275.0   \n",
       "3         8.0   279000.0  1800000.0       50002721.0       50000000.0   \n",
       "4         6.4    15000.0  4000000.0       49407734.0       49407734.0   \n",
       "...       ...        ...        ...              ...              ...   \n",
       "18217     7.2     1600.0       -1.0          10825.0             -1.0   \n",
       "18218     6.9      514.0       -1.0       18045168.0             -1.0   \n",
       "18219     7.1     2300.0       -1.0           6384.0             -1.0   \n",
       "18220     6.4      669.0       -1.0        5336964.0             -1.0   \n",
       "18221     7.0     1300.0       -1.0            335.0             -1.0   \n",
       "\n",
       "       opening_weekend_gross          directors  \\\n",
       "0                  7061513.0   Steven Spielberg   \n",
       "1                       -1.0        Jim Sharman   \n",
       "2                       -1.0       Milos Forman   \n",
       "3                       -1.0       Sidney Lumet   \n",
       "4                       -1.0          Hal Ashby   \n",
       "...                      ...                ...   \n",
       "18217                   -1.0        Agnès Varda   \n",
       "18218                   -1.0  Tsutomu Shibayama   \n",
       "18219                   -1.0       Ermanno Olmi   \n",
       "18220                   -1.0         Feroz Khan   \n",
       "18221                   -1.0      Claude Sautet   \n",
       "\n",
       "                                               writers  \\\n",
       "0                        Peter Benchley, Carl Gottlieb   \n",
       "1                         Richard O'Brien, Jim Sharman   \n",
       "2               Lawrence Hauben, Bo Goldman, Ken Kesey   \n",
       "3              Frank Pierson, P.F. Kluge, Thomas Moore   \n",
       "4                          Robert Towne, Warren Beatty   \n",
       "...                                                ...   \n",
       "18217                                      Agnès Varda   \n",
       "18218                                  Fujio F. Fujiko   \n",
       "18219         Ermanno Olmi, Tullio Kezich, Joseph Roth   \n",
       "18220                        Parvez Mehdi, Aziz Quaisi   \n",
       "18221  Claude Sautet, Jacques Fieschi, Jérôme Tonnerre   \n",
       "\n",
       "                                                   stars  \\\n",
       "0            Roy Scheider, Robert Shaw, Richard Dreyfuss   \n",
       "1              Tim Curry, Susan Sarandon, Barry Bostwick   \n",
       "2      Jack Nicholson, Louise Fletcher, Michael Berryman   \n",
       "3                 Al Pacino, John Cazale, Penelope Allen   \n",
       "4             Warren Beatty, Julie Christie, Goldie Hawn   \n",
       "...                                                  ...   \n",
       "18217   Jane Birkin, Jean-Pierre Léaud, Philippe Léotard   \n",
       "18218         Nobuyo Ôyama, Noriko Ohara, Michiko Nomura   \n",
       "18219       Rutger Hauer, Anthony Quayle, Sandrine Dumas   \n",
       "18220           Vinod Khanna, Feroz Khan, Amala Akkineni   \n",
       "18221  Daniel Auteuil, Sandrine Bonnaire, Jean-Pierre...   \n",
       "\n",
       "                                                  genres  \\\n",
       "0      Monster Horror, Sea Adventure, Survival, Adven...   \n",
       "1      Dark Comedy, Raunchy Comedy, Rock Musical, Sup...   \n",
       "2              Medical Drama, Psychological Drama, Drama   \n",
       "3      Heist, True Crime, Biography, Crime, Drama, Th...   \n",
       "4                                  Satire, Comedy, Drama   \n",
       "...                                                  ...   \n",
       "18217                                 Biography, Fantasy   \n",
       "18218  Anime, Adventure, Animation, Family, Fantasy, ...   \n",
       "18219                                              Drama   \n",
       "18220                      Action, Crime, Drama, Romance   \n",
       "18221                             Comedy, Drama, Romance   \n",
       "\n",
       "                    countries_origin  \\\n",
       "0                      United States   \n",
       "1      United Kingdom, United States   \n",
       "2                      United States   \n",
       "3                      United States   \n",
       "4                      United States   \n",
       "...                              ...   \n",
       "18217                         France   \n",
       "18218                          Japan   \n",
       "18219                  Italy, France   \n",
       "18220                          India   \n",
       "18221                         France   \n",
       "\n",
       "                                    production_companies  \\\n",
       "0           Zanuck/Brown Productions, Universal Pictures   \n",
       "1       Twentieth Century Fox, Michael White Productions   \n",
       "2                             Fantasy Films, N.V. Zvaluw   \n",
       "3            Warner Bros., Artists Entertainment Complex   \n",
       "4      Persky-Bright / Vista, Columbia Pictures, Rube...   \n",
       "...                                                  ...   \n",
       "18217                       Ciné-tamaris, La Sept Cinéma   \n",
       "18218            Shin Ei Animation, Shogakukan, TV Asahi   \n",
       "18219  Cecchi Gori Group Tiger Cinematografica, Aura ...   \n",
       "18220                                 F.K. International   \n",
       "18221                        Sara Films, Cinéa, Films A2   \n",
       "\n",
       "                               languages  cpi_value  \n",
       "0                                English       53.8  \n",
       "1                                English       53.8  \n",
       "2                                English       53.8  \n",
       "3                                English       53.8  \n",
       "4                                English       53.8  \n",
       "...                                  ...        ...  \n",
       "18217  French, English, Spanish, Italian      118.3  \n",
       "18218                           Japanese      118.3  \n",
       "18219           Italian, French, English      118.3  \n",
       "18220                              Hindi      118.3  \n",
       "18221                             French      118.3  \n",
       "\n",
       "[18222 rows x 18 columns]"
      ]
     },
     "execution_count": 946,
     "metadata": {},
     "output_type": "execute_result"
    }
   ],
   "source": [
    "df = df.merge(cpi[[\"year\", \"cpi_value\"]], on=\"year\", how=\"left\")\n",
    "df"
   ]
  },
  {
   "cell_type": "code",
   "execution_count": 947,
   "id": "824b58ba-7c31-4633-9385-153f7d294dcb",
   "metadata": {},
   "outputs": [
    {
     "data": {
      "text/plain": [
       "313.689"
      ]
     },
     "execution_count": 947,
     "metadata": {},
     "output_type": "execute_result"
    }
   ],
   "source": [
    "currentCPI = cpi[\"cpi_value\"].loc[cpi[\"year\"] == 2024].iloc[0] #change the year depending on the latest year in the main dataset\n",
    "currentCPI"
   ]
  },
  {
   "cell_type": "code",
   "execution_count": 948,
   "id": "fdbb0cf6-28a9-4cda-aff0-3503f448cd4d",
   "metadata": {},
   "outputs": [],
   "source": [
    "df[\"budget\"] = df[\"budget\"].where(df[\"budget\"] == -1.0, df[\"budget\"] * currentCPI / df[\"cpi_value\"])\n",
    "df[\"gross_worldwide\"] = df[\"gross_worldwide\"].where(df[\"gross_worldwide\"] == -1.0, df[\"gross_worldwide\"] * currentCPI / df[\"cpi_value\"])\n",
    "df[\"gross_us_canada\"] = df[\"gross_us_canada\"].where(df[\"gross_us_canada\"] == -1.0, df[\"gross_us_canada\"] * currentCPI / df[\"cpi_value\"])\n",
    "df[\"opening_weekend_gross\"] = df[\"opening_weekend_gross\"].where(df[\"opening_weekend_gross\"] == -1.0, df[\"opening_weekend_gross\"] * currentCPI / df[\"cpi_value\"])"
   ]
  },
  {
   "cell_type": "code",
   "execution_count": 949,
   "id": "5254ec83-c2de-4e8a-83d1-c9a9df1426dd",
   "metadata": {
    "scrolled": true
   },
   "outputs": [
    {
     "data": {
      "text/html": [
       "<div>\n",
       "<style scoped>\n",
       "    .dataframe tbody tr th:only-of-type {\n",
       "        vertical-align: middle;\n",
       "    }\n",
       "\n",
       "    .dataframe tbody tr th {\n",
       "        vertical-align: top;\n",
       "    }\n",
       "\n",
       "    .dataframe thead th {\n",
       "        text-align: right;\n",
       "    }\n",
       "</style>\n",
       "<table border=\"1\" class=\"dataframe\">\n",
       "  <thead>\n",
       "    <tr style=\"text-align: right;\">\n",
       "      <th></th>\n",
       "      <th>title</th>\n",
       "      <th>year</th>\n",
       "      <th>duration</th>\n",
       "      <th>mpa</th>\n",
       "      <th>rating</th>\n",
       "      <th>votes</th>\n",
       "      <th>budget</th>\n",
       "      <th>gross_worldwide</th>\n",
       "      <th>gross_us_canada</th>\n",
       "      <th>opening_weekend_gross</th>\n",
       "      <th>directors</th>\n",
       "      <th>writers</th>\n",
       "      <th>stars</th>\n",
       "      <th>genres</th>\n",
       "      <th>countries_origin</th>\n",
       "      <th>production_companies</th>\n",
       "      <th>languages</th>\n",
       "      <th>cpi_value</th>\n",
       "    </tr>\n",
       "  </thead>\n",
       "  <tbody>\n",
       "    <tr>\n",
       "      <th>0</th>\n",
       "      <td>Jaws</td>\n",
       "      <td>1975</td>\n",
       "      <td>124.0</td>\n",
       "      <td>PG</td>\n",
       "      <td>8.1</td>\n",
       "      <td>683000.0</td>\n",
       "      <td>4.081455e+07</td>\n",
       "      <td>2.782506e+09</td>\n",
       "      <td>1.554262e+09</td>\n",
       "      <td>4.117321e+07</td>\n",
       "      <td>Steven Spielberg</td>\n",
       "      <td>Peter Benchley, Carl Gottlieb</td>\n",
       "      <td>Roy Scheider, Robert Shaw, Richard Dreyfuss</td>\n",
       "      <td>Monster Horror, Sea Adventure, Survival, Adven...</td>\n",
       "      <td>United States</td>\n",
       "      <td>Zanuck/Brown Productions, Universal Pictures</td>\n",
       "      <td>English</td>\n",
       "      <td>53.8</td>\n",
       "    </tr>\n",
       "    <tr>\n",
       "      <th>1</th>\n",
       "      <td>The Rocky Horror Picture Show</td>\n",
       "      <td>1975</td>\n",
       "      <td>100.0</td>\n",
       "      <td>R</td>\n",
       "      <td>7.4</td>\n",
       "      <td>173000.0</td>\n",
       "      <td>6.996781e+06</td>\n",
       "      <td>6.751805e+08</td>\n",
       "      <td>6.582357e+08</td>\n",
       "      <td>-1.000000e+00</td>\n",
       "      <td>Jim Sharman</td>\n",
       "      <td>Richard O'Brien, Jim Sharman</td>\n",
       "      <td>Tim Curry, Susan Sarandon, Barry Bostwick</td>\n",
       "      <td>Dark Comedy, Raunchy Comedy, Rock Musical, Sup...</td>\n",
       "      <td>United Kingdom, United States</td>\n",
       "      <td>Twentieth Century Fox, Michael White Productions</td>\n",
       "      <td>English</td>\n",
       "      <td>53.8</td>\n",
       "    </tr>\n",
       "    <tr>\n",
       "      <th>2</th>\n",
       "      <td>One Flew Over the Cuckoo's Nest</td>\n",
       "      <td>1975</td>\n",
       "      <td>133.0</td>\n",
       "      <td>R</td>\n",
       "      <td>8.7</td>\n",
       "      <td>1100000.0</td>\n",
       "      <td>1.749195e+07</td>\n",
       "      <td>6.362136e+08</td>\n",
       "      <td>6.354317e+08</td>\n",
       "      <td>-1.000000e+00</td>\n",
       "      <td>Milos Forman</td>\n",
       "      <td>Lawrence Hauben, Bo Goldman, Ken Kesey</td>\n",
       "      <td>Jack Nicholson, Louise Fletcher, Michael Berryman</td>\n",
       "      <td>Medical Drama, Psychological Drama, Drama</td>\n",
       "      <td>United States</td>\n",
       "      <td>Fantasy Films, N.V. Zvaluw</td>\n",
       "      <td>English</td>\n",
       "      <td>53.8</td>\n",
       "    </tr>\n",
       "    <tr>\n",
       "      <th>3</th>\n",
       "      <td>Dog Day Afternoon</td>\n",
       "      <td>1975</td>\n",
       "      <td>125.0</td>\n",
       "      <td>R</td>\n",
       "      <td>8.0</td>\n",
       "      <td>279000.0</td>\n",
       "      <td>1.049517e+07</td>\n",
       "      <td>2.915484e+08</td>\n",
       "      <td>2.915325e+08</td>\n",
       "      <td>-1.000000e+00</td>\n",
       "      <td>Sidney Lumet</td>\n",
       "      <td>Frank Pierson, P.F. Kluge, Thomas Moore</td>\n",
       "      <td>Al Pacino, John Cazale, Penelope Allen</td>\n",
       "      <td>Heist, True Crime, Biography, Crime, Drama, Th...</td>\n",
       "      <td>United States</td>\n",
       "      <td>Warner Bros., Artists Entertainment Complex</td>\n",
       "      <td>English</td>\n",
       "      <td>53.8</td>\n",
       "    </tr>\n",
       "    <tr>\n",
       "      <th>4</th>\n",
       "      <td>Shampoo</td>\n",
       "      <td>1975</td>\n",
       "      <td>110.0</td>\n",
       "      <td>R</td>\n",
       "      <td>6.4</td>\n",
       "      <td>15000.0</td>\n",
       "      <td>2.332260e+07</td>\n",
       "      <td>2.880792e+08</td>\n",
       "      <td>2.880792e+08</td>\n",
       "      <td>-1.000000e+00</td>\n",
       "      <td>Hal Ashby</td>\n",
       "      <td>Robert Towne, Warren Beatty</td>\n",
       "      <td>Warren Beatty, Julie Christie, Goldie Hawn</td>\n",
       "      <td>Satire, Comedy, Drama</td>\n",
       "      <td>United States</td>\n",
       "      <td>Persky-Bright / Vista, Columbia Pictures, Rube...</td>\n",
       "      <td>English</td>\n",
       "      <td>53.8</td>\n",
       "    </tr>\n",
       "  </tbody>\n",
       "</table>\n",
       "</div>"
      ],
      "text/plain": [
       "                             title  year  duration mpa  rating      votes  \\\n",
       "0                             Jaws  1975     124.0  PG     8.1   683000.0   \n",
       "1    The Rocky Horror Picture Show  1975     100.0   R     7.4   173000.0   \n",
       "2  One Flew Over the Cuckoo's Nest  1975     133.0   R     8.7  1100000.0   \n",
       "3                Dog Day Afternoon  1975     125.0   R     8.0   279000.0   \n",
       "4                          Shampoo  1975     110.0   R     6.4    15000.0   \n",
       "\n",
       "         budget  gross_worldwide  gross_us_canada  opening_weekend_gross  \\\n",
       "0  4.081455e+07     2.782506e+09     1.554262e+09           4.117321e+07   \n",
       "1  6.996781e+06     6.751805e+08     6.582357e+08          -1.000000e+00   \n",
       "2  1.749195e+07     6.362136e+08     6.354317e+08          -1.000000e+00   \n",
       "3  1.049517e+07     2.915484e+08     2.915325e+08          -1.000000e+00   \n",
       "4  2.332260e+07     2.880792e+08     2.880792e+08          -1.000000e+00   \n",
       "\n",
       "          directors                                  writers  \\\n",
       "0  Steven Spielberg            Peter Benchley, Carl Gottlieb   \n",
       "1       Jim Sharman             Richard O'Brien, Jim Sharman   \n",
       "2      Milos Forman   Lawrence Hauben, Bo Goldman, Ken Kesey   \n",
       "3      Sidney Lumet  Frank Pierson, P.F. Kluge, Thomas Moore   \n",
       "4         Hal Ashby              Robert Towne, Warren Beatty   \n",
       "\n",
       "                                               stars  \\\n",
       "0        Roy Scheider, Robert Shaw, Richard Dreyfuss   \n",
       "1          Tim Curry, Susan Sarandon, Barry Bostwick   \n",
       "2  Jack Nicholson, Louise Fletcher, Michael Berryman   \n",
       "3             Al Pacino, John Cazale, Penelope Allen   \n",
       "4         Warren Beatty, Julie Christie, Goldie Hawn   \n",
       "\n",
       "                                              genres  \\\n",
       "0  Monster Horror, Sea Adventure, Survival, Adven...   \n",
       "1  Dark Comedy, Raunchy Comedy, Rock Musical, Sup...   \n",
       "2          Medical Drama, Psychological Drama, Drama   \n",
       "3  Heist, True Crime, Biography, Crime, Drama, Th...   \n",
       "4                              Satire, Comedy, Drama   \n",
       "\n",
       "                countries_origin  \\\n",
       "0                  United States   \n",
       "1  United Kingdom, United States   \n",
       "2                  United States   \n",
       "3                  United States   \n",
       "4                  United States   \n",
       "\n",
       "                                production_companies languages  cpi_value  \n",
       "0       Zanuck/Brown Productions, Universal Pictures   English       53.8  \n",
       "1   Twentieth Century Fox, Michael White Productions   English       53.8  \n",
       "2                         Fantasy Films, N.V. Zvaluw   English       53.8  \n",
       "3        Warner Bros., Artists Entertainment Complex   English       53.8  \n",
       "4  Persky-Bright / Vista, Columbia Pictures, Rube...   English       53.8  "
      ]
     },
     "execution_count": 949,
     "metadata": {},
     "output_type": "execute_result"
    }
   ],
   "source": [
    "df.head()"
   ]
  },
  {
   "cell_type": "markdown",
   "id": "a37581e3-5e70-48c0-8eb8-9d65c6ecacd7",
   "metadata": {},
   "source": [
    "Finally, we can now drop the cpi_value column."
   ]
  },
  {
   "cell_type": "code",
   "execution_count": 950,
   "id": "c453de28-6dfc-47a5-9171-67a859e09ca7",
   "metadata": {},
   "outputs": [
    {
     "data": {
      "text/plain": [
       "['title',\n",
       " 'year',\n",
       " 'duration',\n",
       " 'mpa',\n",
       " 'rating',\n",
       " 'votes',\n",
       " 'budget',\n",
       " 'gross_worldwide',\n",
       " 'gross_us_canada',\n",
       " 'opening_weekend_gross',\n",
       " 'directors',\n",
       " 'writers',\n",
       " 'stars',\n",
       " 'genres',\n",
       " 'countries_origin',\n",
       " 'production_companies',\n",
       " 'languages']"
      ]
     },
     "execution_count": 950,
     "metadata": {},
     "output_type": "execute_result"
    }
   ],
   "source": [
    "df = df.drop(\"cpi_value\", axis = \"columns\")\n",
    "df.columns.tolist()"
   ]
  },
  {
   "cell_type": "markdown",
   "id": "af069e28-0631-4d26-85b5-ac9efc8ec516",
   "metadata": {},
   "source": [
    "### **1.4 Feature Engineering**"
   ]
  },
  {
   "cell_type": "markdown",
   "id": "005fc04f-615b-42d0-a6b5-cca953a60b66",
   "metadata": {},
   "source": [
    "The final step before the data is ready for the model is feature engineering. This involves encoding categorical data, creating new relevant features and scaling numerical data."
   ]
  },
  {
   "cell_type": "markdown",
   "id": "6a079eff-8c7b-4711-ac6e-1dd93f02d6d0",
   "metadata": {},
   "source": [
    "First, let's encode the ordinal data, which, in this case, is the MPA rating. As the ratings have an order of severity, it is possible to use ordinal encoding to represent the data. With the inclusion of 'Not Rated', we need to include that somewhere in the order. It makes the most sense to place it  in the middle to cover all possibilities."
   ]
  },
  {
   "cell_type": "code",
   "execution_count": 951,
   "id": "e716a7a3-1c6b-4632-bce3-0ea2de20dc76",
   "metadata": {},
   "outputs": [
    {
     "data": {
      "text/plain": [
       "mpa\n",
       "R            6797\n",
       "Not Rated    5103\n",
       "PG-13        3462\n",
       "PG           2338\n",
       "G             473\n",
       "NC-17          49\n",
       "Name: count, dtype: int64"
      ]
     },
     "execution_count": 951,
     "metadata": {},
     "output_type": "execute_result"
    }
   ],
   "source": [
    "df[\"mpa\"].value_counts()"
   ]
  },
  {
   "cell_type": "markdown",
   "id": "04fdb123-7aee-4dc3-9b62-fd6a892780b4",
   "metadata": {},
   "source": [
    "As there are 18,222 rows and 5,103 are 'Not Rated', we find the middle of the remaining 13,119 which would be 6560. Now we put the ratings in order and work out the cumulative totals so we can find which ratings to put 'Not Rated' between.\n",
    "\n",
    "G = 473 <br>\n",
    "PG = 2338 + G = 2338 + 473 = 2811 <br>\n",
    "PG-13 = 3462 + PG = 3462 + 2811 = 6273 <br>\n",
    "R = 6797 + PG-13 = 6797 + 6273 = 13070 <br>\n",
    "NC-17 = 49 + R = 49 + 13070 = 13119 <br>\n",
    "\n",
    "So then we would place 'Not Rated' between PG-13 and R because 6560 lies between these two values."
   ]
  },
  {
   "cell_type": "code",
   "execution_count": 952,
   "id": "47dff747-f3cc-4c6c-ad8c-aef31efba606",
   "metadata": {},
   "outputs": [
    {
     "data": {
      "text/plain": [
       "0        1.0\n",
       "1        4.0\n",
       "2        4.0\n",
       "3        4.0\n",
       "4        4.0\n",
       "        ... \n",
       "18217    3.0\n",
       "18218    3.0\n",
       "18219    3.0\n",
       "18220    3.0\n",
       "18221    2.0\n",
       "Name: mpa, Length: 18222, dtype: float64"
      ]
     },
     "execution_count": 952,
     "metadata": {},
     "output_type": "execute_result"
    }
   ],
   "source": [
    "enc = OrdinalEncoder(categories=[[\"G\", \"PG\", \"PG-13\", \"Not Rated\", \"R\", \"NC-17\"]])\n",
    "df[\"mpa\"] = enc.fit_transform(df[[\"mpa\"]])\n",
    "df[\"mpa\"]"
   ]
  },
  {
   "cell_type": "markdown",
   "id": "dae25630-4897-49ea-81d6-2d28c9a2f9a6",
   "metadata": {},
   "source": [
    "Let's see if there is a noticeable correlation between the two. This guides whether it is worth creating a new feature to highlight the correlation."
   ]
  },
  {
   "cell_type": "code",
   "execution_count": 953,
   "id": "c7c2d188-7572-4267-a750-4f82cf6f5416",
   "metadata": {},
   "outputs": [
    {
     "data": {
      "text/plain": [
       "-0.18105496820512385"
      ]
     },
     "execution_count": 953,
     "metadata": {},
     "output_type": "execute_result"
    }
   ],
   "source": [
    "df[\"mpa\"].corr(df[\"gross_worldwide\"])"
   ]
  },
  {
   "cell_type": "code",
   "execution_count": 954,
   "id": "e4ab314c-858b-48a0-8122-59ebfcca8810",
   "metadata": {},
   "outputs": [
    {
     "data": {
      "image/png": "[encoded data removed]",
      "text/plain": [
       "<Figure size 640x480 with 1 Axes>"
      ]
     },
     "metadata": {},
     "output_type": "display_data"
    }
   ],
   "source": [
    "plt.scatter(df[\"mpa\"], np.log1p(df[\"gross_worldwide\"]))\n",
    "plt.xlabel(\"MPA Rating\")\n",
    "plt.ylabel(\"Log transformation of global revenue\")\n",
    "plt.title(\"Scatter Plot Showing MPA Rating vs Log Transformation of Global Box Office Revenue\")\n",
    "plt.show()"
   ]
  },
  {
   "cell_type": "markdown",
   "id": "d11ef4f3-8239-4314-9c08-ef439ce12d4a",
   "metadata": {},
   "source": [
    "This is a weak negative correlation so while there might be a slight lean towards films with a higher MPA rating getting less revenue, it is not significant enough to warrant creating a new feature.\n",
    "\n",
    "Now, let's create the new features, starting with the number of words in the film's title. While it is quite unlikely that there will be any strong correlation there, it would be interesting to see if there is a pattern."
   ]
  },
  {
   "cell_type": "code",
   "execution_count": 955,
   "id": "4a1f902c-f62c-4c25-882f-de711ab2bca8",
   "metadata": {},
   "outputs": [
    {
     "data": {
      "text/plain": [
       "0        1\n",
       "1        5\n",
       "2        6\n",
       "3        3\n",
       "4        1\n",
       "        ..\n",
       "18217    5\n",
       "18218    5\n",
       "18219    6\n",
       "18220    1\n",
       "18221    5\n",
       "Name: title_words, Length: 18222, dtype: int64"
      ]
     },
     "execution_count": 955,
     "metadata": {},
     "output_type": "execute_result"
    }
   ],
   "source": [
    "df[\"title_words\"] = df[\"title\"].str.count(' ') + 1\n",
    "df[\"title_words\"]"
   ]
  },
  {
   "cell_type": "markdown",
   "id": "9371b050-3559-4d8a-8dc7-7c73e81f0d10",
   "metadata": {},
   "source": [
    "Let's check the correlation between the number of words in the title and worldwide revenue."
   ]
  },
  {
   "cell_type": "code",
   "execution_count": 956,
   "id": "b37daaa7-2fb8-4e8b-a80e-f4a367af2ff2",
   "metadata": {},
   "outputs": [
    {
     "data": {
      "text/plain": [
       "0.042735915549561895"
      ]
     },
     "execution_count": 956,
     "metadata": {},
     "output_type": "execute_result"
    }
   ],
   "source": [
    "df[\"title_words\"].corr(df[\"gross_worldwide\"])"
   ]
  },
  {
   "cell_type": "code",
   "execution_count": 957,
   "id": "ad49e19f-5595-4a8f-9d44-371ca2110a65",
   "metadata": {},
   "outputs": [
    {
     "data": {
      "image/png": "[encoded data removed]",
      "text/plain": [
       "<Figure size 640x480 with 1 Axes>"
      ]
     },
     "metadata": {},
     "output_type": "display_data"
    }
   ],
   "source": [
    "plt.scatter(df[\"title_words\"], np.log1p(df[\"gross_worldwide\"]))\n",
    "plt.xlabel(\"Words in Title\")\n",
    "plt.ylabel(\"Log transformation of global revenue\")\n",
    "plt.title(\"Scatter Plot Showing Words in Title vs Log Transformation of Global Box Office Revenue\")\n",
    "plt.show()"
   ]
  },
  {
   "cell_type": "markdown",
   "id": "cb76d059-c920-4a8b-87db-fcb926177bc7",
   "metadata": {},
   "source": [
    "That is a very weak correlation! Basically, there is no correlation between the number of words in a film's title and its global revenue. To improve the model's performance, we should drop this feature as it is not providing any useful information."
   ]
  },
  {
   "cell_type": "code",
   "execution_count": 958,
   "id": "d89da368-d04c-4d0f-a076-113cae2d5c01",
   "metadata": {},
   "outputs": [
    {
     "data": {
      "text/plain": [
       "['title',\n",
       " 'year',\n",
       " 'duration',\n",
       " 'mpa',\n",
       " 'rating',\n",
       " 'votes',\n",
       " 'budget',\n",
       " 'gross_worldwide',\n",
       " 'gross_us_canada',\n",
       " 'opening_weekend_gross',\n",
       " 'directors',\n",
       " 'writers',\n",
       " 'stars',\n",
       " 'genres',\n",
       " 'countries_origin',\n",
       " 'production_companies',\n",
       " 'languages']"
      ]
     },
     "execution_count": 958,
     "metadata": {},
     "output_type": "execute_result"
    }
   ],
   "source": [
    "df = df.drop(\"title_words\", axis = \"columns\")\n",
    "df.columns.tolist()"
   ]
  },
  {
   "cell_type": "markdown",
   "id": "4e7b00cb-fec2-4a9c-b65a-cf23ec94dc15",
   "metadata": {},
   "source": [
    "A feature that ideally would be useful to include is a boolean value denoting whether the film is a sequel or not. Unfortunately, there is no concrete method of deciding whether a film is or isn't a sequel. We could look for instances of '2' or 'II', or maybe a colon for films such as 'Avatar: The Way of Water'. However, we then risk classing original films as sequels if they just happen to fall under one of these categories, as well as not counting films that are sequels but do not follow this format, such as 'The Dark Knight'.\n",
    "\n",
    "The next step is to encode the text-based data. Neural networks can only deal with numerical data so we must encode all of the text that we want to use. We have already encoded MPA rating using ordinal encoding. The remaining columns with text-based data contain no ordinal data and are all lists. Before that, we will drop the title column. It will provide no information to the model so we shouldn't include it."
   ]
  },
  {
   "cell_type": "code",
   "execution_count": 959,
   "id": "0b4c240c-689b-4f7c-82a6-27328c9d912a",
   "metadata": {},
   "outputs": [
    {
     "data": {
      "text/plain": [
       "['year',\n",
       " 'duration',\n",
       " 'mpa',\n",
       " 'rating',\n",
       " 'votes',\n",
       " 'budget',\n",
       " 'gross_worldwide',\n",
       " 'gross_us_canada',\n",
       " 'opening_weekend_gross',\n",
       " 'directors',\n",
       " 'writers',\n",
       " 'stars',\n",
       " 'genres',\n",
       " 'countries_origin',\n",
       " 'production_companies',\n",
       " 'languages']"
      ]
     },
     "execution_count": 959,
     "metadata": {},
     "output_type": "execute_result"
    }
   ],
   "source": [
    "df = df.drop(\"title\", axis = \"columns\")\n",
    "df.columns.tolist()"
   ]
  },
  {
   "cell_type": "markdown",
   "id": "f936533d-4cb4-46f7-af49-5d8391e07a7d",
   "metadata": {},
   "source": [
    "We need to convert the values to lists first."
   ]
  },
  {
   "cell_type": "code",
   "execution_count": 960,
   "id": "fc9b6525-d9c0-4aa4-a61d-ae218018da04",
   "metadata": {},
   "outputs": [],
   "source": [
    "df[\"directors\"] = df[\"directors\"].str.split(\", \")\n",
    "df[\"writers\"] = df[\"writers\"].str.split(\", \")\n",
    "df[\"stars\"] = df[\"stars\"].str.split(\", \")\n",
    "df[\"genres\"] = df[\"genres\"].str.split(\", \")\n",
    "df[\"countries_origin\"] = df[\"countries_origin\"].str.split(\", \")\n",
    "df[\"production_companies\"] = df[\"production_companies\"].str.split(\", \")\n",
    "df[\"languages\"] = df[\"languages\"].str.split(\", \")"
   ]
  },
  {
   "cell_type": "markdown",
   "id": "d7bb284b-285c-4a76-b0b7-6e5d7a2f8d91",
   "metadata": {},
   "source": [
    "If we applied one-hot encoding, we would end up with far too many columns. We need to find a different way. That way is to find the mean global revenue of every film with that attribute and use that to represent it. However, if we just did that, the model would likely overfit the dataset a lot. To deal with this, we will only find the mean for attributes that appear a certain number of times. If the attribute doesn't reach that threshold, it will be represented by the global median of the dataset.\n",
    "\n",
    "In some cases, people can be directors and writers, or directors and stars, sometimes on the same film, sometimes separately on different films. We could set directors, writers and stars as separate values, which would mean, for example, Paul Schrader the actor would be seen as different to Paul Schrader the director. Alternatively, we could merge the three columns to just count any credit on a film. This seems the better approach to avoid effectively splitting a person up into their different works, and wouldn't ignore any fame that they already have from a different type of work."
   ]
  },
  {
   "cell_type": "code",
   "execution_count": 961,
   "id": "8dd6fc3a-5929-4225-a8ad-c133bf04cacf",
   "metadata": {},
   "outputs": [],
   "source": [
    "df[\"cast_crew\"] = df.apply(lambda row: list(set(row[\"directors\"] + row[\"writers\"] + row[\"stars\"])), axis = \"columns\")"
   ]
  },
  {
   "cell_type": "markdown",
   "id": "731ad39a-0689-44ae-a656-066d8a00ebef",
   "metadata": {},
   "source": [
    "First, we need to get the median global revenue and define the function to get the mean global revenue of the films with the eligible attributes."
   ]
  },
  {
   "cell_type": "code",
   "execution_count": 962,
   "id": "ae28d265-d433-44c7-9bd0-46bade085ed1",
   "metadata": {},
   "outputs": [],
   "source": [
    "median = df[\"gross_worldwide\"].median()\n",
    "\n",
    "def get_mean(attribute, column):\n",
    "    df2 = df\n",
    "    df2 = df2[df2[column].apply(lambda x: attribute in x)]\n",
    "    return df2[\"gross_worldwide\"].mean()"
   ]
  },
  {
   "cell_type": "markdown",
   "id": "23d67935-9c3a-4a0b-9067-dc2c3ed881c7",
   "metadata": {},
   "source": [
    "Then, we process each column, getting that attribute's mean if it meets the threshold and the global median otherwise."
   ]
  },
  {
   "cell_type": "code",
   "execution_count": 963,
   "id": "66c3eff5-57b1-43fd-a5ec-7e41dc0333df",
   "metadata": {},
   "outputs": [],
   "source": [
    "cast_crew_counts = df[\"cast_crew\"].explode().value_counts()\n",
    "cast_crew_counts = cast_crew_counts[cast_crew_counts.index != \"Unknown\"]\n",
    "cast_crew_list =  cast_crew_counts.index[cast_crew_counts >= 4]\n",
    "\n",
    "means = {person: get_mean(person, \"cast_crew\") for person in cast_crew_list}\n",
    "df[\"cast_crew\"] = df[\"cast_crew\"].apply(lambda x: [means[person] if person in cast_crew_list else median for person in x])\n",
    "mean_list = df[\"cast_crew\"].tolist()\n",
    "df[\"cast_crew\"] = [np.mean(x) for x in mean_list]"
   ]
  },
  {
   "cell_type": "code",
   "execution_count": 964,
   "id": "2388e1d2-8ea5-4065-a6a2-5bc5796e912f",
   "metadata": {},
   "outputs": [],
   "source": [
    "genres_counts = df[\"genres\"].explode().value_counts()\n",
    "genres_counts = genres_counts[genres_counts.index != \"Unknown\"]\n",
    "genres_list = genres_counts.index[genres_counts >= 2]\n",
    "\n",
    "means = {genre: get_mean(genre, \"genres\") for genre in genres_list}\n",
    "df[\"genres\"] = df[\"genres\"].apply(lambda x: [means[genre] if genre in genres_list else median for genre in x])\n",
    "mean_list = df[\"genres\"].tolist()\n",
    "df[\"genres\"] = [np.mean(x) for x in mean_list]"
   ]
  },
  {
   "cell_type": "code",
   "execution_count": 965,
   "id": "9ac7b7ba-bba6-44d8-bfa8-ce8afa0ef045",
   "metadata": {},
   "outputs": [],
   "source": [
    "countries_counts = df[\"countries_origin\"].explode().value_counts()\n",
    "countries_counts = countries_counts[countries_counts.index != \"Unknown\"]\n",
    "countries_list = countries_counts.index[countries_counts >= 2]\n",
    "\n",
    "means = {country: get_mean(country, \"countries_origin\") for country in countries_list}\n",
    "df[\"countries_origin\"] = df[\"countries_origin\"].apply(lambda x: [means[country] if country in countries_list else median for country in x])\n",
    "mean_list = df[\"countries_origin\"].tolist()\n",
    "df[\"countries_origin\"] = [np.mean(x) for x in mean_list]"
   ]
  },
  {
   "cell_type": "code",
   "execution_count": 966,
   "id": "b4b5b422-aab6-498e-9ad2-7148850c70e4",
   "metadata": {},
   "outputs": [],
   "source": [
    "production_companies_counts = df[\"production_companies\"].explode().value_counts()\n",
    "production_companies_counts = production_companies_counts[production_companies_counts.index != \"Unknown\"]\n",
    "production_companies_list = production_companies_counts.index[production_companies_counts >= 4]\n",
    "\n",
    "means = {company: get_mean(company, \"production_companies\") for company in production_companies_list}\n",
    "df[\"production_companies\"] = df[\"production_companies\"].apply(lambda x: [means[company] if company in production_companies_list else median for company in x])\n",
    "mean_list = df[\"production_companies\"].tolist()\n",
    "df[\"production_companies\"] = [np.mean(x) for x in mean_list]"
   ]
  },
  {
   "cell_type": "code",
   "execution_count": 967,
   "id": "880d810c-a93a-435e-9530-bbba9c5f88ea",
   "metadata": {},
   "outputs": [],
   "source": [
    "languages_counts = df[\"languages\"].explode().value_counts()\n",
    "languages_counts = languages_counts[languages_counts.index != \"Unknown\"]\n",
    "languages_list = languages_counts.index[languages_counts >= 2]\n",
    "\n",
    "means = {language: get_mean(language, \"languages\") for language in languages_list}\n",
    "df[\"languages\"] = df[\"languages\"].apply(lambda x: [means[language] if language in languages_list else median for language in x])\n",
    "mean_list = df[\"languages\"].tolist()\n",
    "df[\"languages\"] = [np.mean(x) for x in mean_list]"
   ]
  },
  {
   "cell_type": "markdown",
   "id": "918fc30b-44b5-45db-91bd-12253cd7e754",
   "metadata": {},
   "source": [
    "Then, we should drop the directors, writers and stars columns as they are no longer useful."
   ]
  },
  {
   "cell_type": "code",
   "execution_count": 968,
   "id": "85bdbbf4-563b-47c0-b3c3-fc90db5937dd",
   "metadata": {},
   "outputs": [
    {
     "data": {
      "text/plain": [
       "['year',\n",
       " 'duration',\n",
       " 'mpa',\n",
       " 'rating',\n",
       " 'votes',\n",
       " 'budget',\n",
       " 'gross_worldwide',\n",
       " 'gross_us_canada',\n",
       " 'opening_weekend_gross',\n",
       " 'genres',\n",
       " 'countries_origin',\n",
       " 'production_companies',\n",
       " 'languages',\n",
       " 'cast_crew']"
      ]
     },
     "execution_count": 968,
     "metadata": {},
     "output_type": "execute_result"
    }
   ],
   "source": [
    "df = df.drop([\"directors\", \"writers\", \"stars\"], axis = \"columns\")\n",
    "df.columns.tolist()"
   ]
  },
  {
   "cell_type": "markdown",
   "id": "e85e6713-ce1f-4fd6-bf56-106b52c0ec84",
   "metadata": {},
   "source": [
    "Now, all of the text has been encoded to be represented by numerical data. The final step before the data is ready is scaling the numerical data. Release year and rating do not need to be scaled as they are limited within a fairly small range. The other numerical columns will be scaled. \n",
    "\n",
    "StandardScaler was chosen over MinMaxScaler for two main reasons.\n",
    "1. StandardScaler is less prone to outliers than MinMaxScaler and, due to the nature of the box office, there will likely be quite a few outliers in the dataset\n",
    "2. StandardScaler keeps the scale of the data, which means it doesn't lose the scale by which a low-grossing film compares to a very high-grossing film"
   ]
  },
  {
   "cell_type": "code",
   "execution_count": 969,
   "id": "a0ee6d49-53b9-4a5c-9424-d5bb63a53f22",
   "metadata": {
    "scrolled": true
   },
   "outputs": [
    {
     "data": {
      "text/html": [
       "<div>\n",
       "<style scoped>\n",
       "    .dataframe tbody tr th:only-of-type {\n",
       "        vertical-align: middle;\n",
       "    }\n",
       "\n",
       "    .dataframe tbody tr th {\n",
       "        vertical-align: top;\n",
       "    }\n",
       "\n",
       "    .dataframe thead th {\n",
       "        text-align: right;\n",
       "    }\n",
       "</style>\n",
       "<table border=\"1\" class=\"dataframe\">\n",
       "  <thead>\n",
       "    <tr style=\"text-align: right;\">\n",
       "      <th></th>\n",
       "      <th>year</th>\n",
       "      <th>duration</th>\n",
       "      <th>mpa</th>\n",
       "      <th>rating</th>\n",
       "      <th>votes</th>\n",
       "      <th>budget</th>\n",
       "      <th>gross_worldwide</th>\n",
       "      <th>gross_us_canada</th>\n",
       "      <th>opening_weekend_gross</th>\n",
       "      <th>genres</th>\n",
       "      <th>countries_origin</th>\n",
       "      <th>production_companies</th>\n",
       "      <th>languages</th>\n",
       "      <th>cast_crew</th>\n",
       "    </tr>\n",
       "  </thead>\n",
       "  <tbody>\n",
       "    <tr>\n",
       "      <th>0</th>\n",
       "      <td>1975</td>\n",
       "      <td>0.826113</td>\n",
       "      <td>1.0</td>\n",
       "      <td>8.1</td>\n",
       "      <td>4.524691</td>\n",
       "      <td>-0.013328</td>\n",
       "      <td>14.480522</td>\n",
       "      <td>17.290914</td>\n",
       "      <td>1.784311</td>\n",
       "      <td>1.976783</td>\n",
       "      <td>0.425933</td>\n",
       "      <td>4.320811</td>\n",
       "      <td>-0.128705</td>\n",
       "      <td>6.219799</td>\n",
       "    </tr>\n",
       "    <tr>\n",
       "      <th>1</th>\n",
       "      <td>1975</td>\n",
       "      <td>-0.266755</td>\n",
       "      <td>4.0</td>\n",
       "      <td>7.4</td>\n",
       "      <td>0.875801</td>\n",
       "      <td>-0.027203</td>\n",
       "      <td>3.257671</td>\n",
       "      <td>7.111767</td>\n",
       "      <td>-0.356070</td>\n",
       "      <td>0.492565</td>\n",
       "      <td>0.361470</td>\n",
       "      <td>1.593286</td>\n",
       "      <td>-0.128705</td>\n",
       "      <td>-0.103338</td>\n",
       "    </tr>\n",
       "    <tr>\n",
       "      <th>2</th>\n",
       "      <td>1975</td>\n",
       "      <td>1.235938</td>\n",
       "      <td>4.0</td>\n",
       "      <td>8.7</td>\n",
       "      <td>7.508195</td>\n",
       "      <td>-0.022897</td>\n",
       "      <td>3.050148</td>\n",
       "      <td>6.852707</td>\n",
       "      <td>-0.356070</td>\n",
       "      <td>-0.195969</td>\n",
       "      <td>0.425933</td>\n",
       "      <td>-0.548179</td>\n",
       "      <td>-0.128705</td>\n",
       "      <td>0.481848</td>\n",
       "    </tr>\n",
       "    <tr>\n",
       "      <th>3</th>\n",
       "      <td>1975</td>\n",
       "      <td>0.871649</td>\n",
       "      <td>4.0</td>\n",
       "      <td>8.0</td>\n",
       "      <td>1.634198</td>\n",
       "      <td>-0.025768</td>\n",
       "      <td>1.214587</td>\n",
       "      <td>2.945904</td>\n",
       "      <td>-0.356070</td>\n",
       "      <td>-0.392156</td>\n",
       "      <td>0.425933</td>\n",
       "      <td>0.640429</td>\n",
       "      <td>-0.128705</td>\n",
       "      <td>0.200299</td>\n",
       "    </tr>\n",
       "    <tr>\n",
       "      <th>4</th>\n",
       "      <td>1975</td>\n",
       "      <td>0.188607</td>\n",
       "      <td>4.0</td>\n",
       "      <td>6.4</td>\n",
       "      <td>-0.254639</td>\n",
       "      <td>-0.020505</td>\n",
       "      <td>1.196111</td>\n",
       "      <td>2.906673</td>\n",
       "      <td>-0.356070</td>\n",
       "      <td>-0.418095</td>\n",
       "      <td>0.425933</td>\n",
       "      <td>0.083538</td>\n",
       "      <td>-0.128705</td>\n",
       "      <td>0.751746</td>\n",
       "    </tr>\n",
       "    <tr>\n",
       "      <th>...</th>\n",
       "      <td>...</td>\n",
       "      <td>...</td>\n",
       "      <td>...</td>\n",
       "      <td>...</td>\n",
       "      <td>...</td>\n",
       "      <td>...</td>\n",
       "      <td>...</td>\n",
       "      <td>...</td>\n",
       "      <td>...</td>\n",
       "      <td>...</td>\n",
       "      <td>...</td>\n",
       "      <td>...</td>\n",
       "      <td>...</td>\n",
       "      <td>...</td>\n",
       "    </tr>\n",
       "    <tr>\n",
       "      <th>18217</th>\n",
       "      <td>1988</td>\n",
       "      <td>-0.312291</td>\n",
       "      <td>3.0</td>\n",
       "      <td>7.2</td>\n",
       "      <td>-0.350512</td>\n",
       "      <td>-0.030074</td>\n",
       "      <td>-0.337941</td>\n",
       "      <td>-0.365998</td>\n",
       "      <td>-0.356070</td>\n",
       "      <td>0.350112</td>\n",
       "      <td>-1.790870</td>\n",
       "      <td>-0.574211</td>\n",
       "      <td>0.339501</td>\n",
       "      <td>-0.552388</td>\n",
       "    </tr>\n",
       "    <tr>\n",
       "      <th>18218</th>\n",
       "      <td>1988</td>\n",
       "      <td>-0.722116</td>\n",
       "      <td>3.0</td>\n",
       "      <td>6.9</td>\n",
       "      <td>-0.358282</td>\n",
       "      <td>-0.030074</td>\n",
       "      <td>-0.083266</td>\n",
       "      <td>-0.365998</td>\n",
       "      <td>-0.356070</td>\n",
       "      <td>1.514286</td>\n",
       "      <td>1.166661</td>\n",
       "      <td>-0.209562</td>\n",
       "      <td>0.274261</td>\n",
       "      <td>-0.101266</td>\n",
       "    </tr>\n",
       "    <tr>\n",
       "      <th>18219</th>\n",
       "      <td>1988</td>\n",
       "      <td>1.008257</td>\n",
       "      <td>3.0</td>\n",
       "      <td>7.1</td>\n",
       "      <td>-0.345504</td>\n",
       "      <td>-0.030074</td>\n",
       "      <td>-0.338004</td>\n",
       "      <td>-0.365998</td>\n",
       "      <td>-0.356070</td>\n",
       "      <td>-0.683906</td>\n",
       "      <td>-1.612593</td>\n",
       "      <td>-0.441079</td>\n",
       "      <td>0.073573</td>\n",
       "      <td>-0.617976</td>\n",
       "    </tr>\n",
       "    <tr>\n",
       "      <th>18220</th>\n",
       "      <td>1988</td>\n",
       "      <td>3.057384</td>\n",
       "      <td>3.0</td>\n",
       "      <td>6.4</td>\n",
       "      <td>-0.357173</td>\n",
       "      <td>-0.030074</td>\n",
       "      <td>-0.262727</td>\n",
       "      <td>-0.365998</td>\n",
       "      <td>-0.356070</td>\n",
       "      <td>-0.056157</td>\n",
       "      <td>-1.397445</td>\n",
       "      <td>-0.548179</td>\n",
       "      <td>-2.388254</td>\n",
       "      <td>-0.649122</td>\n",
       "    </tr>\n",
       "    <tr>\n",
       "      <th>18221</th>\n",
       "      <td>1988</td>\n",
       "      <td>1.144866</td>\n",
       "      <td>2.0</td>\n",
       "      <td>7.0</td>\n",
       "      <td>-0.352659</td>\n",
       "      <td>-0.030074</td>\n",
       "      <td>-0.338089</td>\n",
       "      <td>-0.365998</td>\n",
       "      <td>-0.356070</td>\n",
       "      <td>-0.474967</td>\n",
       "      <td>-1.790870</td>\n",
       "      <td>-0.564335</td>\n",
       "      <td>-0.392410</td>\n",
       "      <td>-0.605085</td>\n",
       "    </tr>\n",
       "  </tbody>\n",
       "</table>\n",
       "<p>18222 rows × 14 columns</p>\n",
       "</div>"
      ],
      "text/plain": [
       "       year  duration  mpa  rating     votes    budget  gross_worldwide  \\\n",
       "0      1975  0.826113  1.0     8.1  4.524691 -0.013328        14.480522   \n",
       "1      1975 -0.266755  4.0     7.4  0.875801 -0.027203         3.257671   \n",
       "2      1975  1.235938  4.0     8.7  7.508195 -0.022897         3.050148   \n",
       "3      1975  0.871649  4.0     8.0  1.634198 -0.025768         1.214587   \n",
       "4      1975  0.188607  4.0     6.4 -0.254639 -0.020505         1.196111   \n",
       "...     ...       ...  ...     ...       ...       ...              ...   \n",
       "18217  1988 -0.312291  3.0     7.2 -0.350512 -0.030074        -0.337941   \n",
       "18218  1988 -0.722116  3.0     6.9 -0.358282 -0.030074        -0.083266   \n",
       "18219  1988  1.008257  3.0     7.1 -0.345504 -0.030074        -0.338004   \n",
       "18220  1988  3.057384  3.0     6.4 -0.357173 -0.030074        -0.262727   \n",
       "18221  1988  1.144866  2.0     7.0 -0.352659 -0.030074        -0.338089   \n",
       "\n",
       "       gross_us_canada  opening_weekend_gross    genres  countries_origin  \\\n",
       "0            17.290914               1.784311  1.976783          0.425933   \n",
       "1             7.111767              -0.356070  0.492565          0.361470   \n",
       "2             6.852707              -0.356070 -0.195969          0.425933   \n",
       "3             2.945904              -0.356070 -0.392156          0.425933   \n",
       "4             2.906673              -0.356070 -0.418095          0.425933   \n",
       "...                ...                    ...       ...               ...   \n",
       "18217        -0.365998              -0.356070  0.350112         -1.790870   \n",
       "18218        -0.365998              -0.356070  1.514286          1.166661   \n",
       "18219        -0.365998              -0.356070 -0.683906         -1.612593   \n",
       "18220        -0.365998              -0.356070 -0.056157         -1.397445   \n",
       "18221        -0.365998              -0.356070 -0.474967         -1.790870   \n",
       "\n",
       "       production_companies  languages  cast_crew  \n",
       "0                  4.320811  -0.128705   6.219799  \n",
       "1                  1.593286  -0.128705  -0.103338  \n",
       "2                 -0.548179  -0.128705   0.481848  \n",
       "3                  0.640429  -0.128705   0.200299  \n",
       "4                  0.083538  -0.128705   0.751746  \n",
       "...                     ...        ...        ...  \n",
       "18217             -0.574211   0.339501  -0.552388  \n",
       "18218             -0.209562   0.274261  -0.101266  \n",
       "18219             -0.441079   0.073573  -0.617976  \n",
       "18220             -0.548179  -2.388254  -0.649122  \n",
       "18221             -0.564335  -0.392410  -0.605085  \n",
       "\n",
       "[18222 rows x 14 columns]"
      ]
     },
     "execution_count": 969,
     "metadata": {},
     "output_type": "execute_result"
    }
   ],
   "source": [
    "scaler = StandardScaler()\n",
    "gross_worldwide_scaler = StandardScaler()\n",
    "df[\"gross_worldwide\"] = gross_worldwide_scaler.fit_transform(df[[\"gross_worldwide\"]])\n",
    "\n",
    "df[[\"duration\", \"votes\", \"budget\", \"gross_us_canada\", \"opening_weekend_gross\", \"genres\", \"countries_origin\", \"production_companies\", \"languages\", \"cast_crew\"]] = scaler.fit_transform(df[[\"duration\", \"votes\", \"budget\", \"gross_us_canada\", \"opening_weekend_gross\", \"genres\", \"countries_origin\", \"production_companies\", \"languages\", \"cast_crew\"]])\n",
    "df"
   ]
  },
  {
   "cell_type": "markdown",
   "id": "f9ecba15-f6da-46f6-a85a-e623929a9feb",
   "metadata": {},
   "source": [
    "## **<u>2. Training Process</u>**"
   ]
  },
  {
   "cell_type": "markdown",
   "id": "bd72739d-2c7f-4b7b-bd63-b058ca1dd553",
   "metadata": {},
   "source": [
    "First, we must split the data. For this, we will make use of the scikit-learn function that does this automatically. It also shuffles the data when splitting which is very useful as the films in the dataset are grouped by year so we would be avoiding several specific years if the data did not shuffle. The default split is 75-25. However, due to the size of the dataset, 80-20 seems like a better split as it provides the model with more training data, while also making sure there is enough testing data to test against."
   ]
  },
  {
   "cell_type": "code",
   "execution_count": 970,
   "id": "2b8677f9-a404-46ff-a544-92ce24bf5d97",
   "metadata": {},
   "outputs": [],
   "source": [
    "X = df.drop(\"gross_worldwide\", axis = \"columns\")\n",
    "y = df[\"gross_worldwide\"]\n",
    "X_train, X_test, y_train, y_test = train_test_split(X, y, test_size = 0.2, random_state = 42) #42 was chosen as it is the number used in the documentation found at: https://scikit-learn.org/stable/modules/generated/sklearn.model_selection.train_test_split.html"
   ]
  },
  {
   "cell_type": "markdown",
   "id": "b497f1a9-92ef-467e-81ad-211d6b011b77",
   "metadata": {},
   "source": [
    "We will be using PyTorch so we must convert the data into tensors. A tensor is essentially a data type that stores numerical data in an array of n dimensions. The data that we preprocessed is ready to be converted into tensors."
   ]
  },
  {
   "cell_type": "code",
   "execution_count": 971,
   "id": "c20cbf0d-f580-49a5-94e3-573c3c2b2acf",
   "metadata": {},
   "outputs": [],
   "source": [
    "X_train_tensor = torch.tensor(X_train.values, dtype = torch.float32)\n",
    "y_train_tensor = torch.tensor(y_train.values, dtype = torch.float32).reshape(-1, 1)\n",
    "\n",
    "X_test_tensor = torch.tensor(X_test.values, dtype = torch.float32)\n",
    "y_test_tensor = torch.tensor(y_test.values, dtype = torch.float32).reshape(-1, 1)"
   ]
  },
  {
   "cell_type": "markdown",
   "id": "e42d9cc5-1a65-4715-a525-73f30e980497",
   "metadata": {},
   "source": [
    "If possible, we should use an accelerator to speed up the process. A GPU is significantly quicker than a CPU in situations like these."
   ]
  },
  {
   "cell_type": "code",
   "execution_count": 972,
   "id": "45a52364-2d1e-44e9-bca1-51b1ffbeeeb2",
   "metadata": {},
   "outputs": [],
   "source": [
    "device = torch.accelerator.current_accelerator().type if torch.accelerator.is_available() else \"cpu\""
   ]
  },
  {
   "cell_type": "markdown",
   "id": "a4ffbc74-50c8-42bb-a989-277b67ec8f2a",
   "metadata": {},
   "source": [
    "It is now time to create the model. We use ReLU as the activation function to help in noticing any non-linear relationships."
   ]
  },
  {
   "cell_type": "code",
   "execution_count": 973,
   "id": "d2b2fc06-3414-4436-ba0d-1742802e6d49",
   "metadata": {},
   "outputs": [],
   "source": [
    "class BoxOfficeModel(torch.nn.Module):\n",
    "    def __init__(self, num_features):\n",
    "        super(BoxOfficeModel, self).__init__()\n",
    "\n",
    "        hidden_1 = 32\n",
    "        hidden_2 = 16\n",
    "\n",
    "        self.model = torch.nn.Sequential(\n",
    "            torch.nn.Linear(num_features, hidden_1),\n",
    "            torch.nn.ReLU(),\n",
    "            torch.nn.Linear(hidden_1, hidden_2),\n",
    "            torch.nn.ReLU(),\n",
    "            torch.nn.Linear(hidden_2, 1)\n",
    "        )\n",
    "\n",
    "    def forward(self, x):\n",
    "        return self.model(x)"
   ]
  },
  {
   "cell_type": "markdown",
   "id": "06a86d46-86e4-4dd3-a12c-2570630b77b1",
   "metadata": {},
   "source": [
    "We can define the loss function. Mean Squared Error (MSE) was chosen as it is good at highlighting significant errors, as it squares them. In this task, we aren't going to be able to make truly accurate predictions every time but if we can minimise the number of significant errors, it will be a successful model."
   ]
  },
  {
   "cell_type": "code",
   "execution_count": 974,
   "id": "869507f6-18be-44b8-a84e-7edca131f2dd",
   "metadata": {},
   "outputs": [],
   "source": [
    "loss_function = torch.nn.MSELoss()"
   ]
  },
  {
   "cell_type": "markdown",
   "id": "0a8f3bbb-224a-4550-9bdf-8198fe6e453a",
   "metadata": {},
   "source": [
    "Now, we can set up the training loop. It will take hyperparameters as arguments so that we can examine their effect easily later on. Further, it will return the results of the process so that they can be stored and analysed. It also keeps track of the lowest loss total across every epoch so that it can return the most successful result at the end. Results are returned as unscaled data to show the model's actual success with real-world values. Additionally, Mean Absolute Error (MAE) was chosen to show the success as it would show the genuine average distance away from the actual value.\n",
    "\n",
    "Every 10 epochs, the error is outputted to keep us up to date with what is happening while it is running. Later on, the whole progression of the model will be shown on a graph.\n",
    "\n",
    "Early stopping was considered as a way to enhance the model but ultimately was rejected. This was partly due to taking the best model at the end of the run, and partly due to the wish to examine the effect of increasing the number of epochs. The goal was to investigate whether it would be worth the extra computation time that extending the number of epochs would lead to."
   ]
  },
  {
   "cell_type": "code",
   "execution_count": 975,
   "id": "4c779b3f-7b28-46f1-a623-b43a41d82476",
   "metadata": {},
   "outputs": [],
   "source": [
    "#code used parts of code found at: https://machinelearningmastery.com/building-a-regression-model-in-pytorch/\n",
    "\n",
    "def run_training(learning_rate, num_epochs, batch_size):\n",
    "\n",
    "    optimiser = torch.optim.Adam(model.parameters(), lr = learning_rate)\n",
    "    \n",
    "    train_set = TensorDataset(X_train_tensor, y_train_tensor)\n",
    "    train_dataset = DataLoader(train_set, batch_size = batch_size, shuffle = True)\n",
    "    \n",
    "    test_set = TensorDataset(X_test_tensor, y_test_tensor)\n",
    "    test_dataset = DataLoader(test_set, batch_size = batch_size)\n",
    "    \n",
    "    best_mae = np.inf\n",
    "    mae_results = []\n",
    "    \n",
    "    for epoch in range(num_epochs):\n",
    "        model.train()\n",
    "    \n",
    "        #cycle through dataset in batches\n",
    "        for features, targets in train_dataset:\n",
    "            features = features.to(device)\n",
    "            targets = targets.to(device)\n",
    "    \n",
    "            optimiser.zero_grad() #reset the gradients before processing the new batch\n",
    "    \n",
    "            results = model(features)\n",
    "            loss = loss_function(results, targets)\n",
    "    \n",
    "            loss.backward()\n",
    "            optimiser.step()\n",
    "    \n",
    "        model.eval()\n",
    "        mae_error = 0\n",
    "    \n",
    "        for features, targets in test_dataset:\n",
    "            features = features.to(device)\n",
    "            targets = targets.to(device)\n",
    "            \n",
    "            results = model(features)\n",
    "            \n",
    "            results = results.cpu().detach().numpy()\n",
    "            targets = targets.cpu().detach().numpy()\n",
    "\n",
    "            real_results = gross_worldwide_scaler.inverse_transform(results)\n",
    "            real_targets = gross_worldwide_scaler.inverse_transform(targets)\n",
    "\n",
    "            mae_error += mean_absolute_error(real_results, real_targets)\n",
    "\n",
    "        mae_error /= len(test_dataset)\n",
    "        mae_results.append(mae_error)\n",
    "        if (epoch + 1) % 10 == 0:\n",
    "            print(f\"Epoch {epoch + 1}: Mean Absolute Error: {mae_error:.2f}\")\n",
    "    \n",
    "        if mae_error < best_mae:\n",
    "            best_mae = mae_error\n",
    "\n",
    "    print()\n",
    "    return best_mae, mae_results"
   ]
  },
  {
   "cell_type": "markdown",
   "id": "e6277b24-afb3-4967-9f1d-6b26ca81556f",
   "metadata": {},
   "source": [
    "## **<u>3. Results</u>**"
   ]
  },
  {
   "cell_type": "markdown",
   "id": "b0922ab2-4b40-491e-bc79-9a84cedf3a07",
   "metadata": {},
   "source": [
    "We will test the effects of the hyperparameters one at a time. Later, we will use our results to guide our selection of the best combination of hyperparameters. First, let's declare each array of hyperparameters that will be used across the entire results process."
   ]
  },
  {
   "cell_type": "code",
   "execution_count": 976,
   "id": "2abe4a4b-ce73-4829-beef-a24c6bc89d68",
   "metadata": {},
   "outputs": [],
   "source": [
    "lr = [0.0001, 0.0005, 0.001, 0.005, 0.01]\n",
    "epochs = [50, 100, 200]\n",
    "bsize = [16, 32, 64, 128]"
   ]
  },
  {
   "cell_type": "markdown",
   "id": "cb566da6-4264-4d77-b1ac-6930143fa673",
   "metadata": {},
   "source": [
    "Then, when testing one hyperparameter, the others will remain the same so that the variable hyperparameter will be the only thing changing. This allows us to analyse the effect of one hyperparameter in particular.\n",
    "\n",
    "The first one we will analyse will be learning rate. For each learning rate, we will see the progression of the error across the duration of the epochs, and plot the results on a graph to be compared. In addition, the lowest error will be saved in the dataframe, which will be outputted at the end of each hyperparameter analysis. The other hyperparameters are set to the middle value of their respective arrays."
   ]
  },
  {
   "cell_type": "code",
   "execution_count": 977,
   "id": "51f755fd-712d-4469-8862-ea00537cb64f",
   "metadata": {},
   "outputs": [
    {
     "name": "stdout",
     "output_type": "stream",
     "text": [
      "Model with learning rate: 0.0001\n",
      "Epoch 10: Mean Absolute Error: 74694903.51\n",
      "Epoch 20: Mean Absolute Error: 43840776.14\n",
      "Epoch 30: Mean Absolute Error: 44177880.89\n",
      "Epoch 40: Mean Absolute Error: 43992226.54\n",
      "Epoch 50: Mean Absolute Error: 39167882.28\n",
      "Epoch 60: Mean Absolute Error: 36157178.04\n",
      "Epoch 70: Mean Absolute Error: 48731747.35\n",
      "Epoch 80: Mean Absolute Error: 35511344.16\n",
      "Epoch 90: Mean Absolute Error: 33350378.32\n",
      "Epoch 100: Mean Absolute Error: 39893796.75\n",
      "\n",
      "Model with learning rate: 0.0005\n",
      "Epoch 10: Mean Absolute Error: 33930588.79\n",
      "Epoch 20: Mean Absolute Error: 31119810.17\n",
      "Epoch 30: Mean Absolute Error: 31026555.35\n",
      "Epoch 40: Mean Absolute Error: 38973658.19\n",
      "Epoch 50: Mean Absolute Error: 32666891.91\n",
      "Epoch 60: Mean Absolute Error: 58201400.77\n",
      "Epoch 70: Mean Absolute Error: 86490026.95\n",
      "Epoch 80: Mean Absolute Error: 36721661.21\n",
      "Epoch 90: Mean Absolute Error: 54148009.02\n",
      "Epoch 100: Mean Absolute Error: 32363294.36\n",
      "\n",
      "Model with learning rate: 0.001\n",
      "Epoch 10: Mean Absolute Error: 36524777.14\n",
      "Epoch 20: Mean Absolute Error: 37121479.44\n",
      "Epoch 30: Mean Absolute Error: 40407022.05\n",
      "Epoch 40: Mean Absolute Error: 52437763.54\n",
      "Epoch 50: Mean Absolute Error: 41942695.14\n",
      "Epoch 60: Mean Absolute Error: 46537461.46\n",
      "Epoch 70: Mean Absolute Error: 55805463.72\n",
      "Epoch 80: Mean Absolute Error: 25550970.28\n",
      "Epoch 90: Mean Absolute Error: 50318865.05\n",
      "Epoch 100: Mean Absolute Error: 29178301.68\n",
      "\n",
      "Model with learning rate: 0.005\n",
      "Epoch 10: Mean Absolute Error: 42652118.67\n",
      "Epoch 20: Mean Absolute Error: 93983198.28\n",
      "Epoch 30: Mean Absolute Error: 89851309.93\n",
      "Epoch 40: Mean Absolute Error: 87887626.07\n",
      "Epoch 50: Mean Absolute Error: 92071847.19\n",
      "Epoch 60: Mean Absolute Error: 91467364.04\n",
      "Epoch 70: Mean Absolute Error: 88190229.16\n",
      "Epoch 80: Mean Absolute Error: 91231569.47\n",
      "Epoch 90: Mean Absolute Error: 85839137.47\n",
      "Epoch 100: Mean Absolute Error: 90056672.98\n",
      "\n",
      "Model with learning rate: 0.01\n",
      "Epoch 10: Mean Absolute Error: 107978773.05\n",
      "Epoch 20: Mean Absolute Error: 88614369.16\n",
      "Epoch 30: Mean Absolute Error: 89160142.98\n",
      "Epoch 40: Mean Absolute Error: 85864180.88\n",
      "Epoch 50: Mean Absolute Error: 88308223.44\n",
      "Epoch 60: Mean Absolute Error: 88776396.49\n",
      "Epoch 70: Mean Absolute Error: 85147826.39\n",
      "Epoch 80: Mean Absolute Error: 86324003.44\n",
      "Epoch 90: Mean Absolute Error: 88316267.30\n",
      "Epoch 100: Mean Absolute Error: 87268813.47\n",
      "\n"
     ]
    },
    {
     "data": {
      "image/png": "[encoded data removed]",
      "text/plain": [
       "<Figure size 640x480 with 1 Axes>"
      ]
     },
     "metadata": {},
     "output_type": "display_data"
    },
    {
     "data": {
      "text/html": [
       "<div>\n",
       "<style scoped>\n",
       "    .dataframe tbody tr th:only-of-type {\n",
       "        vertical-align: middle;\n",
       "    }\n",
       "\n",
       "    .dataframe tbody tr th {\n",
       "        vertical-align: top;\n",
       "    }\n",
       "\n",
       "    .dataframe thead th {\n",
       "        text-align: right;\n",
       "    }\n",
       "</style>\n",
       "<table border=\"1\" class=\"dataframe\">\n",
       "  <thead>\n",
       "    <tr style=\"text-align: right;\">\n",
       "      <th></th>\n",
       "      <th>learning_rate</th>\n",
       "      <th>num_epochs</th>\n",
       "      <th>batch_size</th>\n",
       "      <th>best_mae</th>\n",
       "    </tr>\n",
       "  </thead>\n",
       "  <tbody>\n",
       "    <tr>\n",
       "      <th>0</th>\n",
       "      <td>0.0001</td>\n",
       "      <td>100</td>\n",
       "      <td>32</td>\n",
       "      <td>3.253645e+07</td>\n",
       "    </tr>\n",
       "    <tr>\n",
       "      <th>1</th>\n",
       "      <td>0.0005</td>\n",
       "      <td>100</td>\n",
       "      <td>32</td>\n",
       "      <td>3.023348e+07</td>\n",
       "    </tr>\n",
       "    <tr>\n",
       "      <th>2</th>\n",
       "      <td>0.0010</td>\n",
       "      <td>100</td>\n",
       "      <td>32</td>\n",
       "      <td>2.301094e+07</td>\n",
       "    </tr>\n",
       "    <tr>\n",
       "      <th>3</th>\n",
       "      <td>0.0050</td>\n",
       "      <td>100</td>\n",
       "      <td>32</td>\n",
       "      <td>3.142778e+07</td>\n",
       "    </tr>\n",
       "    <tr>\n",
       "      <th>4</th>\n",
       "      <td>0.0100</td>\n",
       "      <td>100</td>\n",
       "      <td>32</td>\n",
       "      <td>3.161122e+07</td>\n",
       "    </tr>\n",
       "  </tbody>\n",
       "</table>\n",
       "</div>"
      ],
      "text/plain": [
       "   learning_rate  num_epochs  batch_size      best_mae\n",
       "0         0.0001         100          32  3.253645e+07\n",
       "1         0.0005         100          32  3.023348e+07\n",
       "2         0.0010         100          32  2.301094e+07\n",
       "3         0.0050         100          32  3.142778e+07\n",
       "4         0.0100         100          32  3.161122e+07"
      ]
     },
     "execution_count": 977,
     "metadata": {},
     "output_type": "execute_result"
    }
   ],
   "source": [
    "lr_results = pd.DataFrame(columns = [\"learning_rate\", \"num_epochs\", \"batch_size\", \"best_mae\"])\n",
    "\n",
    "all_mae_results = []\n",
    "\n",
    "epoch = epochs[1] \n",
    "batch = bsize[1]\n",
    "\n",
    "for rate in lr:\n",
    "    print(f\"Model with learning rate: {rate}\")\n",
    "    model = BoxOfficeModel(X_train_tensor.shape[1]).to(device) #set or reset the model\n",
    "    best_mae, mae_results = run_training(rate, epoch, batch)\n",
    "    lr_results.loc[len(lr_results)] = {\"learning_rate\": rate, \"num_epochs\": epoch, \"batch_size\": batch, \"best_mae\": best_mae}\n",
    "    all_mae_results.append(mae_results)\n",
    "\n",
    "for i, mae_results in enumerate(all_mae_results):\n",
    "    plt.plot(mae_results, label = {lr[i]})\n",
    "\n",
    "plt.title(\"MAE Progression across Learning Rates\")\n",
    "plt.xlabel(\"Epoch\")\n",
    "plt.ylabel(\"Mean Absolute Error\")\n",
    "plt.legend(title = \"Learning Rates\")\n",
    "plt.show()\n",
    "\n",
    "lr_results"
   ]
  },
  {
   "cell_type": "markdown",
   "id": "85b765b5-b3dd-4f71-8cca-a72004ea3816",
   "metadata": {},
   "source": [
    "Now let's analyse how changing the number of epochs affects the model. We will use the most successful learning rate from above, which is 0.001. When selecting the most successful, it is important to not solely use the lowest error, but also analyse the trend of the data and judge the likelihood that the low error was a fluke. In this case, although the learning rate of 0.001 can be a bit more volatile than 0.0001, its success overall, with several occurrences of errors lower than the other lowest, makes it clearly the optimal learning rate."
   ]
  },
  {
   "cell_type": "code",
   "execution_count": 978,
   "id": "1e05bd29-6d96-4d46-9311-dcc4545852ee",
   "metadata": {},
   "outputs": [
    {
     "name": "stdout",
     "output_type": "stream",
     "text": [
      "Model with 50 total epochs\n",
      "Epoch 10: Mean Absolute Error: 43372803.98\n",
      "Epoch 20: Mean Absolute Error: 49989822.88\n",
      "Epoch 30: Mean Absolute Error: 38138760.28\n",
      "Epoch 40: Mean Absolute Error: 67125244.39\n",
      "Epoch 50: Mean Absolute Error: 42321567.12\n",
      "\n",
      "Model with 100 total epochs\n",
      "Epoch 10: Mean Absolute Error: 44988592.51\n",
      "Epoch 20: Mean Absolute Error: 63050800.53\n",
      "Epoch 30: Mean Absolute Error: 59030491.40\n",
      "Epoch 40: Mean Absolute Error: 37996726.39\n",
      "Epoch 50: Mean Absolute Error: 52055182.56\n",
      "Epoch 60: Mean Absolute Error: 60320898.11\n",
      "Epoch 70: Mean Absolute Error: 36026318.28\n",
      "Epoch 80: Mean Absolute Error: 50090028.35\n",
      "Epoch 90: Mean Absolute Error: 26467850.74\n",
      "Epoch 100: Mean Absolute Error: 27530473.01\n",
      "\n",
      "Model with 200 total epochs\n",
      "Epoch 10: Mean Absolute Error: 92780132.00\n",
      "Epoch 20: Mean Absolute Error: 93289510.04\n",
      "Epoch 30: Mean Absolute Error: 90749886.60\n",
      "Epoch 40: Mean Absolute Error: 29676954.12\n",
      "Epoch 50: Mean Absolute Error: 58268252.07\n",
      "Epoch 60: Mean Absolute Error: 22224559.21\n",
      "Epoch 70: Mean Absolute Error: 22403610.08\n",
      "Epoch 80: Mean Absolute Error: 44662984.04\n",
      "Epoch 90: Mean Absolute Error: 33717548.16\n",
      "Epoch 100: Mean Absolute Error: 25708831.18\n",
      "Epoch 110: Mean Absolute Error: 25337321.54\n",
      "Epoch 120: Mean Absolute Error: 29733218.87\n",
      "Epoch 130: Mean Absolute Error: 33997858.82\n",
      "Epoch 140: Mean Absolute Error: 25952787.17\n",
      "Epoch 150: Mean Absolute Error: 23524514.70\n",
      "Epoch 160: Mean Absolute Error: 29942604.09\n",
      "Epoch 170: Mean Absolute Error: 35590109.96\n",
      "Epoch 180: Mean Absolute Error: 27100990.04\n",
      "Epoch 190: Mean Absolute Error: 24606821.07\n",
      "Epoch 200: Mean Absolute Error: 23516084.11\n",
      "\n"
     ]
    },
    {
     "data": {
      "image/png": "[encoded data removed]",
      "text/plain": [
       "<Figure size 640x480 with 1 Axes>"
      ]
     },
     "metadata": {},
     "output_type": "display_data"
    },
    {
     "data": {
      "text/html": [
       "<div>\n",
       "<style scoped>\n",
       "    .dataframe tbody tr th:only-of-type {\n",
       "        vertical-align: middle;\n",
       "    }\n",
       "\n",
       "    .dataframe tbody tr th {\n",
       "        vertical-align: top;\n",
       "    }\n",
       "\n",
       "    .dataframe thead th {\n",
       "        text-align: right;\n",
       "    }\n",
       "</style>\n",
       "<table border=\"1\" class=\"dataframe\">\n",
       "  <thead>\n",
       "    <tr style=\"text-align: right;\">\n",
       "      <th></th>\n",
       "      <th>learning_rate</th>\n",
       "      <th>num_epochs</th>\n",
       "      <th>batch_size</th>\n",
       "      <th>best_mae</th>\n",
       "    </tr>\n",
       "  </thead>\n",
       "  <tbody>\n",
       "    <tr>\n",
       "      <th>0</th>\n",
       "      <td>0.001</td>\n",
       "      <td>50</td>\n",
       "      <td>32</td>\n",
       "      <td>3.067009e+07</td>\n",
       "    </tr>\n",
       "    <tr>\n",
       "      <th>1</th>\n",
       "      <td>0.001</td>\n",
       "      <td>100</td>\n",
       "      <td>32</td>\n",
       "      <td>2.166818e+07</td>\n",
       "    </tr>\n",
       "    <tr>\n",
       "      <th>2</th>\n",
       "      <td>0.001</td>\n",
       "      <td>200</td>\n",
       "      <td>32</td>\n",
       "      <td>2.167291e+07</td>\n",
       "    </tr>\n",
       "  </tbody>\n",
       "</table>\n",
       "</div>"
      ],
      "text/plain": [
       "   learning_rate  num_epochs  batch_size      best_mae\n",
       "0          0.001          50          32  3.067009e+07\n",
       "1          0.001         100          32  2.166818e+07\n",
       "2          0.001         200          32  2.167291e+07"
      ]
     },
     "execution_count": 978,
     "metadata": {},
     "output_type": "execute_result"
    }
   ],
   "source": [
    "epoch_results = pd.DataFrame(columns = [\"learning_rate\", \"num_epochs\", \"batch_size\", \"best_mae\"])\n",
    "\n",
    "all_mae_results = []\n",
    "\n",
    "rate = lr[2] #set to most successful\n",
    "batch = bsize[1]\n",
    "\n",
    "for epoch in epochs:\n",
    "    print(f\"Model with {epoch} total epochs\")\n",
    "    model = BoxOfficeModel(X_train_tensor.shape[1]).to(device) #set or reset the model\n",
    "    best_mae, mae_results = run_training(rate, epoch, batch)\n",
    "    epoch_results.loc[len(epoch_results)] = {\"learning_rate\": rate, \"num_epochs\": epoch, \"batch_size\": batch, \"best_mae\": best_mae}\n",
    "    all_mae_results.append(mae_results)\n",
    "\n",
    "for i, mae_results in enumerate(all_mae_results):\n",
    "    plt.plot(mae_results, label = {epochs[i]})\n",
    "\n",
    "plt.title(\"MAE Progression across Epochs\")\n",
    "plt.xlabel(\"Epoch\")\n",
    "plt.ylabel(\"Mean Absolute Error\")\n",
    "plt.legend(title = \"Number of Epochs\")\n",
    "plt.show()\n",
    "\n",
    "epoch_results"
   ]
  },
  {
   "cell_type": "markdown",
   "id": "eb9811ab-d0a7-4881-95df-187ce20992c4",
   "metadata": {},
   "source": [
    "Finally, we look at the effects of different batch sizes. Now, we will use the most successful learning rate and number of epochs to test. In this case, the extra computation time of the extra 100 epochs after the first 100 doesn't seem justified, as they have very similar lowest errors and it doesn't seem like the continued running of the model is causing any real improvement. Thus, we will call 100 the most successful number of epochs. \n",
    "\n",
    "Now, testing the batch sizes next to these most successful hyperparameters will give us a reasonable optimal model."
   ]
  },
  {
   "cell_type": "code",
   "execution_count": 979,
   "id": "bbf992fe-d486-482d-bb78-6a01fe841b68",
   "metadata": {},
   "outputs": [
    {
     "name": "stdout",
     "output_type": "stream",
     "text": [
      "Model with batch size: 16\n",
      "Epoch 10: Mean Absolute Error: 28956171.64\n",
      "Epoch 20: Mean Absolute Error: 28867378.23\n",
      "Epoch 30: Mean Absolute Error: 53904666.25\n",
      "Epoch 40: Mean Absolute Error: 23728562.42\n",
      "Epoch 50: Mean Absolute Error: 49718989.20\n",
      "Epoch 60: Mean Absolute Error: 25156117.87\n",
      "Epoch 70: Mean Absolute Error: 28395332.72\n",
      "Epoch 80: Mean Absolute Error: 28045492.93\n",
      "Epoch 90: Mean Absolute Error: 33611678.74\n",
      "Epoch 100: Mean Absolute Error: 28585143.91\n",
      "\n",
      "Model with batch size: 32\n",
      "Epoch 10: Mean Absolute Error: 82271296.42\n",
      "Epoch 20: Mean Absolute Error: 57285802.07\n",
      "Epoch 30: Mean Absolute Error: 68902449.26\n",
      "Epoch 40: Mean Absolute Error: 39595239.56\n",
      "Epoch 50: Mean Absolute Error: 29546798.23\n",
      "Epoch 60: Mean Absolute Error: 35276131.37\n",
      "Epoch 70: Mean Absolute Error: 34635701.51\n",
      "Epoch 80: Mean Absolute Error: 38823122.04\n",
      "Epoch 90: Mean Absolute Error: 31458888.35\n",
      "Epoch 100: Mean Absolute Error: 42141455.00\n",
      "\n",
      "Model with batch size: 64\n",
      "Epoch 10: Mean Absolute Error: 40593294.18\n",
      "Epoch 20: Mean Absolute Error: 73923887.79\n",
      "Epoch 30: Mean Absolute Error: 32780706.42\n",
      "Epoch 40: Mean Absolute Error: 84037454.04\n",
      "Epoch 50: Mean Absolute Error: 30874872.88\n",
      "Epoch 60: Mean Absolute Error: 78638403.51\n",
      "Epoch 70: Mean Absolute Error: 37466214.74\n",
      "Epoch 80: Mean Absolute Error: 30298222.00\n",
      "Epoch 90: Mean Absolute Error: 52865180.35\n",
      "Epoch 100: Mean Absolute Error: 38875670.46\n",
      "\n",
      "Model with batch size: 128\n",
      "Epoch 10: Mean Absolute Error: 42663281.79\n",
      "Epoch 20: Mean Absolute Error: 43728704.62\n",
      "Epoch 30: Mean Absolute Error: 38392951.45\n",
      "Epoch 40: Mean Absolute Error: 31861554.21\n",
      "Epoch 50: Mean Absolute Error: 53659111.72\n",
      "Epoch 60: Mean Absolute Error: 34321050.07\n",
      "Epoch 70: Mean Absolute Error: 40599504.97\n",
      "Epoch 80: Mean Absolute Error: 42068816.55\n",
      "Epoch 90: Mean Absolute Error: 32893621.17\n",
      "Epoch 100: Mean Absolute Error: 33028737.03\n",
      "\n"
     ]
    },
    {
     "data": {
      "image/png": "[encoded data removed]",
      "text/plain": [
       "<Figure size 640x480 with 1 Axes>"
      ]
     },
     "metadata": {},
     "output_type": "display_data"
    },
    {
     "data": {
      "text/html": [
       "<div>\n",
       "<style scoped>\n",
       "    .dataframe tbody tr th:only-of-type {\n",
       "        vertical-align: middle;\n",
       "    }\n",
       "\n",
       "    .dataframe tbody tr th {\n",
       "        vertical-align: top;\n",
       "    }\n",
       "\n",
       "    .dataframe thead th {\n",
       "        text-align: right;\n",
       "    }\n",
       "</style>\n",
       "<table border=\"1\" class=\"dataframe\">\n",
       "  <thead>\n",
       "    <tr style=\"text-align: right;\">\n",
       "      <th></th>\n",
       "      <th>learning_rate</th>\n",
       "      <th>num_epochs</th>\n",
       "      <th>batch_size</th>\n",
       "      <th>best_mae</th>\n",
       "    </tr>\n",
       "  </thead>\n",
       "  <tbody>\n",
       "    <tr>\n",
       "      <th>0</th>\n",
       "      <td>0.001</td>\n",
       "      <td>100</td>\n",
       "      <td>16</td>\n",
       "      <td>2.372856e+07</td>\n",
       "    </tr>\n",
       "    <tr>\n",
       "      <th>1</th>\n",
       "      <td>0.001</td>\n",
       "      <td>100</td>\n",
       "      <td>32</td>\n",
       "      <td>2.203589e+07</td>\n",
       "    </tr>\n",
       "    <tr>\n",
       "      <th>2</th>\n",
       "      <td>0.001</td>\n",
       "      <td>100</td>\n",
       "      <td>64</td>\n",
       "      <td>3.022678e+07</td>\n",
       "    </tr>\n",
       "    <tr>\n",
       "      <th>3</th>\n",
       "      <td>0.001</td>\n",
       "      <td>100</td>\n",
       "      <td>128</td>\n",
       "      <td>3.030778e+07</td>\n",
       "    </tr>\n",
       "  </tbody>\n",
       "</table>\n",
       "</div>"
      ],
      "text/plain": [
       "   learning_rate  num_epochs  batch_size      best_mae\n",
       "0          0.001         100          16  2.372856e+07\n",
       "1          0.001         100          32  2.203589e+07\n",
       "2          0.001         100          64  3.022678e+07\n",
       "3          0.001         100         128  3.030778e+07"
      ]
     },
     "execution_count": 979,
     "metadata": {},
     "output_type": "execute_result"
    }
   ],
   "source": [
    "batch_results = pd.DataFrame(columns = [\"learning_rate\", \"num_epochs\", \"batch_size\", \"best_mae\"])\n",
    "\n",
    "all_mae_results = []\n",
    "\n",
    "rate = lr[2]\n",
    "epoch = epochs[1]\n",
    "\n",
    "for batch in bsize:\n",
    "    print(f\"Model with batch size: {batch}\")\n",
    "    model = BoxOfficeModel(X_train_tensor.shape[1]).to(device) #set or reset the model\n",
    "    best_mae, mae_results = run_training(rate, epoch, batch)\n",
    "    batch_results.loc[len(batch_results)] = {\"learning_rate\": rate, \"num_epochs\": epoch, \"batch_size\": batch, \"best_mae\": best_mae}\n",
    "    all_mae_results.append(mae_results)\n",
    "\n",
    "for i, mae_results in enumerate(all_mae_results):\n",
    "    plt.plot(mae_results, label = {bsize[i]})\n",
    "\n",
    "plt.title(\"MAE Progression across Batch Sizes\")\n",
    "plt.xlabel(\"Epoch\")\n",
    "plt.ylabel(\"Mean Absolute Error\")\n",
    "plt.legend(title = \"Batch Size\")\n",
    "plt.show()\n",
    "\n",
    "batch_results"
   ]
  },
  {
   "cell_type": "markdown",
   "id": "3fd1865d-f9b1-488a-be09-51d14125ce16",
   "metadata": {},
   "source": [
    "It looks quite close between 16 and 32, especially later on. It would take more tests to find a definitive answer. Interestingly, the lowest error across the hyperparameter tests came in the epoch test, where it was around 21.6 million. With more time and computational power, it is likely that this could be reduced a small amount but ultimately not enough to justify it. Therefore, we will take 21.6 million as our final result."
   ]
  },
  {
   "cell_type": "markdown",
   "id": "ec3e05ef-247f-433f-813b-db8786242d96",
   "metadata": {},
   "source": [
    "So what does that actually mean? Well let's look at the mean and standard deviation of the revenues."
   ]
  },
  {
   "cell_type": "code",
   "execution_count": 992,
   "id": "63c1a903-d9d8-4276-9f28-a4c1803d8992",
   "metadata": {},
   "outputs": [
    {
     "data": {
      "text/plain": [
       "63484214.172986545"
      ]
     },
     "execution_count": 992,
     "metadata": {},
     "output_type": "execute_result"
    }
   ],
   "source": [
    "gross_worldwide_scaler.inverse_transform(df[\"gross_worldwide\"].mean().reshape(-1, 1)).tolist()[0][0]"
   ]
  },
  {
   "cell_type": "code",
   "execution_count": 993,
   "id": "e65604ff-8c80-45bc-b2cb-788809f36da9",
   "metadata": {},
   "outputs": [
    {
     "data": {
      "text/plain": [
       "251260377.4854476"
      ]
     },
     "execution_count": 993,
     "metadata": {},
     "output_type": "execute_result"
    }
   ],
   "source": [
    "gross_worldwide_scaler.inverse_transform(df[\"gross_worldwide\"].std().reshape(-1, 1)).tolist()[0][0]"
   ]
  },
  {
   "cell_type": "markdown",
   "id": "58200284-0d4b-48af-b43a-0bb70cdec66d",
   "metadata": {},
   "source": [
    "Our Mean Absolute Error is around 34% of the mean. Initially, that seems quite high. The standard deviation of the revenues, however, is 25.1 million. First of all, it shows the high level of variance in the data. Of course, this is to be expected as we used a dataset that covered a wide range of revenues, and the box office isn't known for its stability and predictability. Secondly, the Mean Absolute Error is lower than the standard deviation, which means the model's predictions are close enough to the real values to be considered at least partly successful.\n",
    "\n",
    "For this model, there is a limit to how much we can read from using an error calculation. For example, using the Mean Absolute Error gives us an overall average of how far away the predictions were from the real values. However, it ignores the fact that predicting £650,000,000 for a £750,000,000 film is not the same as predicting £100 million for a film that makes no money at all, despite appearing to be the same as they are both 100 million away. Similarly, if we used a relative error by percentage, it would then be skewed against lower-grossing films. For example, if a film earned £1,000,000 and was predicted £600,000, that would be a successful prediction despite being 40% away. This means that neither absolute nor relative errors can give us a true idea of how successful the model is.\n",
    "\n",
    "Overall, I am relatively happy with the model. Of course, there is room for improvement, from a more informative and complete dataset to better hyperparameter tuning, but considering the unpredictability of box office revenue, especially when reduced down to metadata, I think the model is a mild success."
   ]
  },
  {
   "cell_type": "markdown",
   "id": "eba1145f-1b0b-4dda-9e7f-158a4db1c9f6",
   "metadata": {},
   "source": [
    "## **<u>4. Analysis of Similar Online Tutorials</u>**"
   ]
  },
  {
   "cell_type": "markdown",
   "id": "8a346155-dbbb-47df-a93f-d092b1f038d3",
   "metadata": {},
   "source": [
    "**Tutorial 1- Box Office Revenue Prediction Using Linear Regression in ML**"
   ]
  },
  {
   "cell_type": "markdown",
   "id": "18923f17-1cd7-4dba-8d75-6c38c7469d19",
   "metadata": {},
   "source": [
    "This tutorial (ap853uk5h, 2024) is much more brief in the preprocessing stage. It appears to use a more complete dataset that didn't need to be changed much before use in the model. In fact, the whole tutorial is much more brief. It doesn't seem to explain much and doesn't critically evaluate or justify any of the choices made. In my tutorial, I made sure to explain the choices that I made and explain how some things worked that weren't immediately obvious. ap853uk5h's tutorial essentially just returned the final results, giving no explanation of what they meant, how they related to the real-world values, or how successful the model was. However, ap853uk5h's tutorial evaluates the correlation between all of the features and the target variable, whereas my tutorial only explores some.\n",
    "\n",
    "In terms of the approaches, there were some oversights in both tutorials. My tutorial missed some features that would have been useful, as mentioned earlier. ap853uk5h's tutorial had fewer features, most of which were directly related to the film's box office status, rather than the film itself, overlooking cast, crew and country of origin. Their tutorial used XGBoost Regression for the model, which typically requires more feature engineering, in contrast with my choice of using a neural network, which is better at recognising patterns itself and doesn't require as much analysis of the features."
   ]
  },
  {
   "cell_type": "markdown",
   "id": "f9e262db-0476-4ae3-bc6e-d36c1e87837d",
   "metadata": {},
   "source": [
    "**Tutorial 2- How to use Machine Learning Approach to Predict Movie Box-Office Revenue / Success?**"
   ]
  },
  {
   "cell_type": "markdown",
   "id": "664d87b7-cef5-4d7e-9700-8935f00bdfe8",
   "metadata": {},
   "source": [
    "This tutorial (Adhikari, 2020) makes use of a lot of graphs to analyse the relationships between features and also between a feature and the target variable. It does this more effectively than my tutorial. However, this tutorial did not make use of neural networks, so more feature engineering and analysis was required. Adhikari tested multiple types of machine learning model, employing linear regression, random forest and gradient boost regression.\n",
    "\n",
    "Some of the choices made by Adhikari are questionable. For example, including all non-english films as one genre feels both disingenuous and inaccurate. Further, displaying the results as a graph that portrays all genres as separate and the same type of attribute as duration oversimplifies the complexity of a film. Once again, cast and crew were completely overlooked as a feature. However, Adhikari's tutorial used both release month and release day, which is something my dataset lacked.\n",
    "\n",
    "Adhikari also made strong use of graphs to justify or further their explanations, such as providing a histogram of revenue before and after log transformation. This is something that I perhaps could have utilised more. The explanations in Adhikari's tutorial decline a little in depth and quality once the training process begins, not detailing what the different models do well or badly, or why they were chosen."
   ]
  },
  {
   "cell_type": "markdown",
   "id": "257d49ed-70a7-4317-962f-8055e80684fb",
   "metadata": {},
   "source": [
    "**Tutorial 3- What makes a successful film? Predicting a film's revenue and user rating with machine learning**"
   ]
  },
  {
   "cell_type": "markdown",
   "id": "b115c406-537e-4007-94e7-3d3613bc9727",
   "metadata": {},
   "source": [
    "This tutorial (Anderson, 2019) used very similar features to the ones in my tutorial, including cast and crew as well as production companies. The discussion of preprocessing is quite brief. For example, Anderson mentioned adjusting the dataset for inflation but didn't give any explanation of how or show any visual analysis. In my tutorial, I ensured that all of my actions were clear and explained well in both the justification and the action itself.\n",
    "\n",
    "It appears that Anderson may have used one hot encoding, as they seem to have used around 1200 input variables. This was something I particularly wanted to avoid as it can easily cause overfitting. Anderson mentioned that a lot didn't have an impact so next time would address that before processing the model. This is similar to my approach of setting a minimum limit for the number of occurrences of a categorical value, which seems to have worked well.\n",
    "\n",
    "Anderson did a good job of being analytical and explaining their successes and failures, which I could have perhaps done better."
   ]
  },
  {
   "cell_type": "markdown",
   "id": "49430f7a-9a09-43c1-83df-2bda80431dbb",
   "metadata": {},
   "source": [
    "## **<u>5. References</u>**"
   ]
  },
  {
   "cell_type": "markdown",
   "id": "56983600-43f3-4199-9c28-cef2029e9495",
   "metadata": {},
   "source": [
    "Addala, R. (2025) *30,000+ Movies, 60+ Years of Data, Rich Metadata*. Kaggle. Available at: https://www.kaggle.com/datasets/raedaddala/top-500-600-movies-of-each-year-from-1960-to-2024. (Accessed: 2 March 2025)\n",
    "\n",
    "Adhikari, S. (2020) *How to use Machine Learning Approach to Predict Movie Box-Office Revenue / Success?*. Medium. Available at: https://medium.com/analytics-vidhya/how-to-use-machine-learning-approach-to-predict-movie-box-office-revenue-success-e2e688669972. (Accessed: 16 March 2025)\n",
    "\n",
    "Anderson, R. (2019) *What makes a successful film? Predicting a film’s revenue and user rating with machine learning*. Medium. Available at: https://ryan-anderson-ds.medium.com/what-makes-a-successful-film-predicting-a-films-revenue-and-user-rating-with-machine-learning-e2d1b42365e7. (Accessed: 16 March 2025)\n",
    "\n",
    "ap853uk5h (2024) *Box Office Revenue Prediction Using Linear Regression in ML*. Geeks for Geeks. Available at: https://www.geeksforgeeks.org/box-office-revenue-prediction-using-linear-regression-in-ml. (Accessed: 16 March 2025)\n",
    "\n",
    "U.S. Bureau of Labor Statistics (2025) *Historical CPI-U, January 2025*. Available at: https://www.bls.gov/cpi/tables/supplemental-files/historical-cpi-u-202501.xlsx. (Accessed: 9 March 2025)"
   ]
  }
 ],
 "metadata": {
  "kernelspec": {
   "display_name": "Python 3 (ipykernel)",
   "language": "python",
   "name": "python3"
  },
  "language_info": {
   "codemirror_mode": {
    "name": "ipython",
    "version": 3
   },
   "file_extension": ".py",
   "mimetype": "text/x-python",
   "name": "python",
   "nbconvert_exporter": "python",
   "pygments_lexer": "ipython3",
   "version": "3.11.3"
  }
 },
 "nbformat": 4,
 "nbformat_minor": 5
}
